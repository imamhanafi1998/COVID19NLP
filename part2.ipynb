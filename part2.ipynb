{
 "cells": [
  {
   "cell_type": "code",
   "execution_count": 1,
   "metadata": {
    "colab": {
     "base_uri": "https://localhost:8080/",
     "height": 107
    },
    "colab_type": "code",
    "executionInfo": {
     "elapsed": 3228,
     "status": "ok",
     "timestamp": 1590884196929,
     "user": {
      "displayName": "Imam Hanafi Sistem Informasi",
      "photoUrl": "",
      "userId": "07450488865621521207"
     },
     "user_tz": -420
    },
    "id": "YrgloLrkFS9z",
    "outputId": "a034772c-6620-4070-bb0c-0ad206a2ef31"
   },
   "outputs": [
    {
     "name": "stdout",
     "output_type": "stream",
     "text": [
      "Available kernels:\r\n",
      "  python3    /home/guest/anaconda3/share/jupyter/kernels/python3\r\n"
     ]
    }
   ],
   "source": [
    "!jupyter kernelspec list"
   ]
  },
  {
   "cell_type": "code",
   "execution_count": 2,
   "metadata": {},
   "outputs": [
    {
     "name": "stdout",
     "output_type": "stream",
     "text": [
      "Requirement already satisfied: plotly in /home/guest/anaconda3/lib/python3.7/site-packages (4.8.1)\n",
      "Requirement already satisfied: six in /home/guest/anaconda3/lib/python3.7/site-packages (from plotly) (1.12.0)\n",
      "Requirement already satisfied: retrying>=1.3.3 in /home/guest/anaconda3/lib/python3.7/site-packages (from plotly) (1.3.3)\n",
      "Requirement already satisfied: wordcloud in /home/guest/anaconda3/lib/python3.7/site-packages (1.7.0)\n",
      "Requirement already satisfied: numpy>=1.6.1 in /home/guest/anaconda3/lib/python3.7/site-packages (from wordcloud) (1.17.2)\n",
      "Requirement already satisfied: matplotlib in /home/guest/anaconda3/lib/python3.7/site-packages (from wordcloud) (3.1.1)\n",
      "Requirement already satisfied: pillow in /home/guest/anaconda3/lib/python3.7/site-packages (from wordcloud) (6.2.0)\n",
      "Requirement already satisfied: cycler>=0.10 in /home/guest/anaconda3/lib/python3.7/site-packages (from matplotlib->wordcloud) (0.10.0)\n",
      "Requirement already satisfied: kiwisolver>=1.0.1 in /home/guest/anaconda3/lib/python3.7/site-packages (from matplotlib->wordcloud) (1.1.0)\n",
      "Requirement already satisfied: pyparsing!=2.0.4,!=2.1.2,!=2.1.6,>=2.0.1 in /home/guest/anaconda3/lib/python3.7/site-packages (from matplotlib->wordcloud) (2.4.2)\n",
      "Requirement already satisfied: python-dateutil>=2.1 in /home/guest/anaconda3/lib/python3.7/site-packages (from matplotlib->wordcloud) (2.8.0)\n",
      "Requirement already satisfied: six in /home/guest/anaconda3/lib/python3.7/site-packages (from cycler>=0.10->matplotlib->wordcloud) (1.12.0)\n",
      "Requirement already satisfied: setuptools in /home/guest/anaconda3/lib/python3.7/site-packages (from kiwisolver>=1.0.1->matplotlib->wordcloud) (41.4.0)\n",
      "Requirement already satisfied: textblob in /home/guest/anaconda3/lib/python3.7/site-packages (0.15.3)\n",
      "Requirement already satisfied: nltk>=3.1 in /home/guest/anaconda3/lib/python3.7/site-packages (from textblob) (3.4.5)\n",
      "Requirement already satisfied: six in /home/guest/anaconda3/lib/python3.7/site-packages (from nltk>=3.1->textblob) (1.12.0)\n"
     ]
    }
   ],
   "source": [
    "!pip install plotly\n",
    "!pip install wordcloud\n",
    "!pip install textblob"
   ]
  },
  {
   "cell_type": "code",
   "execution_count": 68,
   "metadata": {},
   "outputs": [
    {
     "name": "stdout",
     "output_type": "stream",
     "text": [
      "Collecting en_core_web_sm==2.2.5 from https://github.com/explosion/spacy-models/releases/download/en_core_web_sm-2.2.5/en_core_web_sm-2.2.5.tar.gz#egg=en_core_web_sm==2.2.5\n",
      "\u001b[?25l  Downloading https://github.com/explosion/spacy-models/releases/download/en_core_web_sm-2.2.5/en_core_web_sm-2.2.5.tar.gz (12.0MB)\n",
      "\u001b[K     |████████████████████████████████| 12.0MB 1.0MB/s eta 0:00:01    |███████████████▎                | 5.8MB 1.2MB/s eta 0:00:06\n",
      "\u001b[?25hRequirement already satisfied: spacy>=2.2.2 in /home/guest/anaconda3/lib/python3.7/site-packages (from en_core_web_sm==2.2.5) (2.2.4)\n",
      "Requirement already satisfied: wasabi<1.1.0,>=0.4.0 in /home/guest/anaconda3/lib/python3.7/site-packages (from spacy>=2.2.2->en_core_web_sm==2.2.5) (0.6.0)\n",
      "Requirement already satisfied: thinc==7.4.0 in /home/guest/anaconda3/lib/python3.7/site-packages (from spacy>=2.2.2->en_core_web_sm==2.2.5) (7.4.0)\n",
      "Requirement already satisfied: tqdm<5.0.0,>=4.38.0 in /home/guest/anaconda3/lib/python3.7/site-packages (from spacy>=2.2.2->en_core_web_sm==2.2.5) (4.46.0)\n",
      "Requirement already satisfied: blis<0.5.0,>=0.4.0 in /home/guest/anaconda3/lib/python3.7/site-packages (from spacy>=2.2.2->en_core_web_sm==2.2.5) (0.4.1)\n",
      "Requirement already satisfied: numpy>=1.15.0 in /home/guest/anaconda3/lib/python3.7/site-packages (from spacy>=2.2.2->en_core_web_sm==2.2.5) (1.17.2)\n",
      "Requirement already satisfied: catalogue<1.1.0,>=0.0.7 in /home/guest/anaconda3/lib/python3.7/site-packages (from spacy>=2.2.2->en_core_web_sm==2.2.5) (1.0.0)\n",
      "Requirement already satisfied: preshed<3.1.0,>=3.0.2 in /home/guest/anaconda3/lib/python3.7/site-packages (from spacy>=2.2.2->en_core_web_sm==2.2.5) (3.0.2)\n",
      "Requirement already satisfied: cymem<2.1.0,>=2.0.2 in /home/guest/anaconda3/lib/python3.7/site-packages (from spacy>=2.2.2->en_core_web_sm==2.2.5) (2.0.3)\n",
      "Requirement already satisfied: plac<1.2.0,>=0.9.6 in /home/guest/anaconda3/lib/python3.7/site-packages (from spacy>=2.2.2->en_core_web_sm==2.2.5) (1.1.3)\n",
      "Requirement already satisfied: srsly<1.1.0,>=1.0.2 in /home/guest/anaconda3/lib/python3.7/site-packages (from spacy>=2.2.2->en_core_web_sm==2.2.5) (1.0.2)\n",
      "Requirement already satisfied: requests<3.0.0,>=2.13.0 in /home/guest/anaconda3/lib/python3.7/site-packages (from spacy>=2.2.2->en_core_web_sm==2.2.5) (2.22.0)\n",
      "Requirement already satisfied: murmurhash<1.1.0,>=0.28.0 in /home/guest/anaconda3/lib/python3.7/site-packages (from spacy>=2.2.2->en_core_web_sm==2.2.5) (1.0.2)\n",
      "Requirement already satisfied: setuptools in /home/guest/anaconda3/lib/python3.7/site-packages (from spacy>=2.2.2->en_core_web_sm==2.2.5) (41.4.0)\n",
      "Requirement already satisfied: importlib-metadata>=0.20; python_version < \"3.8\" in /home/guest/anaconda3/lib/python3.7/site-packages (from catalogue<1.1.0,>=0.0.7->spacy>=2.2.2->en_core_web_sm==2.2.5) (0.23)\n",
      "Requirement already satisfied: idna<2.9,>=2.5 in /home/guest/anaconda3/lib/python3.7/site-packages (from requests<3.0.0,>=2.13.0->spacy>=2.2.2->en_core_web_sm==2.2.5) (2.8)\n",
      "Requirement already satisfied: chardet<3.1.0,>=3.0.2 in /home/guest/anaconda3/lib/python3.7/site-packages (from requests<3.0.0,>=2.13.0->spacy>=2.2.2->en_core_web_sm==2.2.5) (3.0.4)\n",
      "Requirement already satisfied: certifi>=2017.4.17 in /home/guest/anaconda3/lib/python3.7/site-packages (from requests<3.0.0,>=2.13.0->spacy>=2.2.2->en_core_web_sm==2.2.5) (2019.9.11)\n",
      "Requirement already satisfied: urllib3!=1.25.0,!=1.25.1,<1.26,>=1.21.1 in /home/guest/anaconda3/lib/python3.7/site-packages (from requests<3.0.0,>=2.13.0->spacy>=2.2.2->en_core_web_sm==2.2.5) (1.24.2)\n",
      "Requirement already satisfied: zipp>=0.5 in /home/guest/anaconda3/lib/python3.7/site-packages (from importlib-metadata>=0.20; python_version < \"3.8\"->catalogue<1.1.0,>=0.0.7->spacy>=2.2.2->en_core_web_sm==2.2.5) (0.6.0)\n",
      "Requirement already satisfied: more-itertools in /home/guest/anaconda3/lib/python3.7/site-packages (from zipp>=0.5->importlib-metadata>=0.20; python_version < \"3.8\"->catalogue<1.1.0,>=0.0.7->spacy>=2.2.2->en_core_web_sm==2.2.5) (7.2.0)\n",
      "Building wheels for collected packages: en-core-web-sm\n",
      "  Building wheel for en-core-web-sm (setup.py) ... \u001b[?25ldone\n",
      "\u001b[?25h  Created wheel for en-core-web-sm: filename=en_core_web_sm-2.2.5-cp37-none-any.whl size=12011740 sha256=eda6e8a69ef4ee66d7a02ed9e4234a501c318454596d93872a9baf3844fdf31e\n",
      "  Stored in directory: /tmp/pip-ephem-wheel-cache-rpdpbz06/wheels/6a/47/fb/6b5a0b8906d8e8779246c67d4658fd8a544d4a03a75520197a\n",
      "Successfully built en-core-web-sm\n",
      "Installing collected packages: en-core-web-sm\n",
      "  Found existing installation: en-core-web-sm 2.0.0\n",
      "    Uninstalling en-core-web-sm-2.0.0:\n",
      "      Successfully uninstalled en-core-web-sm-2.0.0\n",
      "Successfully installed en-core-web-sm-2.2.5\n",
      "\u001b[38;5;2m✔ Download and installation successful\u001b[0m\n",
      "You can now load the model via spacy.load('en_core_web_sm')\n",
      "\u001b[38;5;2m✔ Linking successful\u001b[0m\n",
      "/home/guest/anaconda3/lib/python3.7/site-packages/en_core_web_sm -->\n",
      "/home/guest/anaconda3/lib/python3.7/site-packages/spacy/data/en\n",
      "You can now load the model via spacy.load('en')\n"
     ]
    }
   ],
   "source": [
    "import sys\n",
    "!{sys.executable} -m spacy download en"
   ]
  },
  {
   "cell_type": "code",
   "execution_count": 3,
   "metadata": {
    "colab": {
     "base_uri": "https://localhost:8080/",
     "height": 145
    },
    "colab_type": "code",
    "executionInfo": {
     "elapsed": 3513,
     "status": "ok",
     "timestamp": 1590884223649,
     "user": {
      "displayName": "Imam Hanafi Sistem Informasi",
      "photoUrl": "",
      "userId": "07450488865621521207"
     },
     "user_tz": -420
    },
    "id": "1sK4QmmUFmg0",
    "outputId": "b6e4620d-9bdd-45bd-f754-bca1a3e3dc69"
   },
   "outputs": [
    {
     "name": "stderr",
     "output_type": "stream",
     "text": [
      "[nltk_data] Downloading package stopwords to /home/guest/nltk_data...\n",
      "[nltk_data]   Package stopwords is already up-to-date!\n",
      "[nltk_data] Downloading package wordnet to /home/guest/nltk_data...\n",
      "[nltk_data]   Package wordnet is already up-to-date!\n"
     ]
    }
   ],
   "source": [
    "import re\n",
    "import numpy as np\n",
    "import pandas as pd\n",
    "from pprint import pprint\n",
    "from datetime import datetime\n",
    "\n",
    "#plotting\n",
    "import matplotlib.pyplot as plt\n",
    "import seaborn as sns\n",
    "import plotly.express as px\n",
    "%matplotlib inline\n",
    "\n",
    "#word count\n",
    "from collections import Counter\n",
    "\n",
    "#word clouds\n",
    "import heapq\n",
    "from wordcloud import WordCloud, STOPWORDS\n",
    "from PIL import Image\n",
    "import collections\n",
    "import matplotlib.cm as cm\n",
    "from matplotlib import rcParams\n",
    "from tqdm import tqdm\n",
    "\n",
    "#sentiment analysis\n",
    "from textblob import TextBlob\n",
    "\n",
    "#text preprocessing\n",
    "from nltk.corpus import stopwords\n",
    "import nltk\n",
    "from nltk.stem import WordNetLemmatizer \n",
    "nltk.download('stopwords')\n",
    "nltk.download('wordnet')\n",
    "\n",
    "#hide warning\n",
    "import warnings\n",
    "warnings.filterwarnings(\"ignore\",category=DeprecationWarning)"
   ]
  },
  {
   "cell_type": "code",
   "execution_count": 4,
   "metadata": {
    "colab": {
     "base_uri": "https://localhost:8080/",
     "height": 667
    },
    "colab_type": "code",
    "executionInfo": {
     "elapsed": 8669,
     "status": "ok",
     "timestamp": 1590884285991,
     "user": {
      "displayName": "Imam Hanafi Sistem Informasi",
      "photoUrl": "",
      "userId": "07450488865621521207"
     },
     "user_tz": -420
    },
    "id": "7vGA1CjlF5Oo",
    "outputId": "694911f3-d9d6-4a03-c1a1-b4d89c39debd"
   },
   "outputs": [
    {
     "name": "stdout",
     "output_type": "stream",
     "text": [
      "Requirement already satisfied: pyLDAvis in /home/guest/anaconda3/lib/python3.7/site-packages (2.1.2)\n",
      "Requirement already satisfied: scipy>=0.18.0 in /home/guest/anaconda3/lib/python3.7/site-packages (from pyLDAvis) (1.3.1)\n",
      "Requirement already satisfied: joblib>=0.8.4 in /home/guest/anaconda3/lib/python3.7/site-packages (from pyLDAvis) (0.13.2)\n",
      "Requirement already satisfied: jinja2>=2.7.2 in /home/guest/anaconda3/lib/python3.7/site-packages (from pyLDAvis) (2.10.3)\n",
      "Requirement already satisfied: funcy in /home/guest/anaconda3/lib/python3.7/site-packages (from pyLDAvis) (1.14)\n",
      "Requirement already satisfied: pandas>=0.17.0 in /home/guest/anaconda3/lib/python3.7/site-packages (from pyLDAvis) (0.25.1)\n",
      "Requirement already satisfied: pytest in /home/guest/anaconda3/lib/python3.7/site-packages (from pyLDAvis) (5.2.1)\n",
      "Requirement already satisfied: future in /home/guest/anaconda3/lib/python3.7/site-packages (from pyLDAvis) (0.17.1)\n",
      "Requirement already satisfied: wheel>=0.23.0 in /home/guest/anaconda3/lib/python3.7/site-packages (from pyLDAvis) (0.33.6)\n",
      "Requirement already satisfied: numpy>=1.9.2 in /home/guest/anaconda3/lib/python3.7/site-packages (from pyLDAvis) (1.17.2)\n",
      "Requirement already satisfied: numexpr in /home/guest/anaconda3/lib/python3.7/site-packages (from pyLDAvis) (2.7.0)\n",
      "Requirement already satisfied: MarkupSafe>=0.23 in /home/guest/anaconda3/lib/python3.7/site-packages (from jinja2>=2.7.2->pyLDAvis) (1.1.1)\n",
      "Requirement already satisfied: python-dateutil>=2.6.1 in /home/guest/anaconda3/lib/python3.7/site-packages (from pandas>=0.17.0->pyLDAvis) (2.8.0)\n",
      "Requirement already satisfied: pytz>=2017.2 in /home/guest/anaconda3/lib/python3.7/site-packages (from pandas>=0.17.0->pyLDAvis) (2019.3)\n",
      "Requirement already satisfied: py>=1.5.0 in /home/guest/anaconda3/lib/python3.7/site-packages (from pytest->pyLDAvis) (1.8.0)\n",
      "Requirement already satisfied: packaging in /home/guest/anaconda3/lib/python3.7/site-packages (from pytest->pyLDAvis) (19.2)\n",
      "Requirement already satisfied: attrs>=17.4.0 in /home/guest/anaconda3/lib/python3.7/site-packages (from pytest->pyLDAvis) (19.2.0)\n",
      "Requirement already satisfied: more-itertools>=4.0.0 in /home/guest/anaconda3/lib/python3.7/site-packages (from pytest->pyLDAvis) (7.2.0)\n",
      "Requirement already satisfied: atomicwrites>=1.0 in /home/guest/anaconda3/lib/python3.7/site-packages (from pytest->pyLDAvis) (1.3.0)\n",
      "Requirement already satisfied: pluggy<1.0,>=0.12 in /home/guest/anaconda3/lib/python3.7/site-packages (from pytest->pyLDAvis) (0.13.0)\n",
      "Requirement already satisfied: wcwidth in /home/guest/anaconda3/lib/python3.7/site-packages (from pytest->pyLDAvis) (0.1.7)\n",
      "Requirement already satisfied: importlib-metadata>=0.12 in /home/guest/anaconda3/lib/python3.7/site-packages (from pytest->pyLDAvis) (0.23)\n",
      "Requirement already satisfied: six>=1.5 in /home/guest/anaconda3/lib/python3.7/site-packages (from python-dateutil>=2.6.1->pandas>=0.17.0->pyLDAvis) (1.12.0)\n",
      "Requirement already satisfied: pyparsing>=2.0.2 in /home/guest/anaconda3/lib/python3.7/site-packages (from packaging->pytest->pyLDAvis) (2.4.2)\n",
      "Requirement already satisfied: zipp>=0.5 in /home/guest/anaconda3/lib/python3.7/site-packages (from importlib-metadata>=0.12->pytest->pyLDAvis) (0.6.0)\n",
      "Note: you may need to restart the kernel to use updated packages.\n"
     ]
    }
   ],
   "source": [
    "pip install pyLDAvis"
   ]
  },
  {
   "cell_type": "code",
   "execution_count": 5,
   "metadata": {},
   "outputs": [
    {
     "name": "stdout",
     "output_type": "stream",
     "text": [
      "Requirement already satisfied: spacy in /home/guest/anaconda3/lib/python3.7/site-packages (2.2.4)\n",
      "Requirement already satisfied: cymem<2.1.0,>=2.0.2 in /home/guest/anaconda3/lib/python3.7/site-packages (from spacy) (2.0.3)\n",
      "Requirement already satisfied: preshed<3.1.0,>=3.0.2 in /home/guest/anaconda3/lib/python3.7/site-packages (from spacy) (3.0.2)\n",
      "Requirement already satisfied: catalogue<1.1.0,>=0.0.7 in /home/guest/anaconda3/lib/python3.7/site-packages (from spacy) (1.0.0)\n",
      "Requirement already satisfied: setuptools in /home/guest/anaconda3/lib/python3.7/site-packages (from spacy) (41.4.0)\n",
      "Requirement already satisfied: requests<3.0.0,>=2.13.0 in /home/guest/anaconda3/lib/python3.7/site-packages (from spacy) (2.22.0)\n",
      "Requirement already satisfied: numpy>=1.15.0 in /home/guest/anaconda3/lib/python3.7/site-packages (from spacy) (1.17.2)\n",
      "Requirement already satisfied: tqdm<5.0.0,>=4.38.0 in /home/guest/anaconda3/lib/python3.7/site-packages (from spacy) (4.46.0)\n",
      "Requirement already satisfied: murmurhash<1.1.0,>=0.28.0 in /home/guest/anaconda3/lib/python3.7/site-packages (from spacy) (1.0.2)\n",
      "Requirement already satisfied: wasabi<1.1.0,>=0.4.0 in /home/guest/anaconda3/lib/python3.7/site-packages (from spacy) (0.6.0)\n",
      "Requirement already satisfied: srsly<1.1.0,>=1.0.2 in /home/guest/anaconda3/lib/python3.7/site-packages (from spacy) (1.0.2)\n",
      "Requirement already satisfied: blis<0.5.0,>=0.4.0 in /home/guest/anaconda3/lib/python3.7/site-packages (from spacy) (0.4.1)\n",
      "Requirement already satisfied: plac<1.2.0,>=0.9.6 in /home/guest/anaconda3/lib/python3.7/site-packages (from spacy) (1.1.3)\n",
      "Requirement already satisfied: thinc==7.4.0 in /home/guest/anaconda3/lib/python3.7/site-packages (from spacy) (7.4.0)\n",
      "Requirement already satisfied: importlib-metadata>=0.20; python_version < \"3.8\" in /home/guest/anaconda3/lib/python3.7/site-packages (from catalogue<1.1.0,>=0.0.7->spacy) (0.23)\n",
      "Requirement already satisfied: idna<2.9,>=2.5 in /home/guest/anaconda3/lib/python3.7/site-packages (from requests<3.0.0,>=2.13.0->spacy) (2.8)\n",
      "Requirement already satisfied: chardet<3.1.0,>=3.0.2 in /home/guest/anaconda3/lib/python3.7/site-packages (from requests<3.0.0,>=2.13.0->spacy) (3.0.4)\n",
      "Requirement already satisfied: urllib3!=1.25.0,!=1.25.1,<1.26,>=1.21.1 in /home/guest/anaconda3/lib/python3.7/site-packages (from requests<3.0.0,>=2.13.0->spacy) (1.24.2)\n",
      "Requirement already satisfied: certifi>=2017.4.17 in /home/guest/anaconda3/lib/python3.7/site-packages (from requests<3.0.0,>=2.13.0->spacy) (2019.9.11)\n",
      "Requirement already satisfied: zipp>=0.5 in /home/guest/anaconda3/lib/python3.7/site-packages (from importlib-metadata>=0.20; python_version < \"3.8\"->catalogue<1.1.0,>=0.0.7->spacy) (0.6.0)\n",
      "Requirement already satisfied: more-itertools in /home/guest/anaconda3/lib/python3.7/site-packages (from zipp>=0.5->importlib-metadata>=0.20; python_version < \"3.8\"->catalogue<1.1.0,>=0.0.7->spacy) (7.2.0)\n",
      "Note: you may need to restart the kernel to use updated packages.\n"
     ]
    }
   ],
   "source": [
    "pip install spacy"
   ]
  },
  {
   "cell_type": "code",
   "execution_count": 6,
   "metadata": {},
   "outputs": [
    {
     "name": "stdout",
     "output_type": "stream",
     "text": [
      "Processing ./en_core_web_sm-2.2.0.tar.gz\n",
      "Requirement already satisfied: spacy>=2.2.0 in /home/guest/anaconda3/lib/python3.7/site-packages (from en-core-web-sm==2.2.0) (2.2.4)\n",
      "Requirement already satisfied: blis<0.5.0,>=0.4.0 in /home/guest/anaconda3/lib/python3.7/site-packages (from spacy>=2.2.0->en-core-web-sm==2.2.0) (0.4.1)\n",
      "Requirement already satisfied: numpy>=1.15.0 in /home/guest/anaconda3/lib/python3.7/site-packages (from spacy>=2.2.0->en-core-web-sm==2.2.0) (1.17.2)\n",
      "Requirement already satisfied: catalogue<1.1.0,>=0.0.7 in /home/guest/anaconda3/lib/python3.7/site-packages (from spacy>=2.2.0->en-core-web-sm==2.2.0) (1.0.0)\n",
      "Requirement already satisfied: murmurhash<1.1.0,>=0.28.0 in /home/guest/anaconda3/lib/python3.7/site-packages (from spacy>=2.2.0->en-core-web-sm==2.2.0) (1.0.2)\n",
      "Requirement already satisfied: plac<1.2.0,>=0.9.6 in /home/guest/anaconda3/lib/python3.7/site-packages (from spacy>=2.2.0->en-core-web-sm==2.2.0) (1.1.3)\n",
      "Requirement already satisfied: tqdm<5.0.0,>=4.38.0 in /home/guest/anaconda3/lib/python3.7/site-packages (from spacy>=2.2.0->en-core-web-sm==2.2.0) (4.46.0)\n",
      "Requirement already satisfied: preshed<3.1.0,>=3.0.2 in /home/guest/anaconda3/lib/python3.7/site-packages (from spacy>=2.2.0->en-core-web-sm==2.2.0) (3.0.2)\n",
      "Requirement already satisfied: requests<3.0.0,>=2.13.0 in /home/guest/anaconda3/lib/python3.7/site-packages (from spacy>=2.2.0->en-core-web-sm==2.2.0) (2.22.0)\n",
      "Requirement already satisfied: wasabi<1.1.0,>=0.4.0 in /home/guest/anaconda3/lib/python3.7/site-packages (from spacy>=2.2.0->en-core-web-sm==2.2.0) (0.6.0)\n",
      "Requirement already satisfied: cymem<2.1.0,>=2.0.2 in /home/guest/anaconda3/lib/python3.7/site-packages (from spacy>=2.2.0->en-core-web-sm==2.2.0) (2.0.3)\n",
      "Requirement already satisfied: setuptools in /home/guest/anaconda3/lib/python3.7/site-packages (from spacy>=2.2.0->en-core-web-sm==2.2.0) (41.4.0)\n",
      "Requirement already satisfied: thinc==7.4.0 in /home/guest/anaconda3/lib/python3.7/site-packages (from spacy>=2.2.0->en-core-web-sm==2.2.0) (7.4.0)\n",
      "Requirement already satisfied: srsly<1.1.0,>=1.0.2 in /home/guest/anaconda3/lib/python3.7/site-packages (from spacy>=2.2.0->en-core-web-sm==2.2.0) (1.0.2)\n",
      "Requirement already satisfied: importlib-metadata>=0.20; python_version < \"3.8\" in /home/guest/anaconda3/lib/python3.7/site-packages (from catalogue<1.1.0,>=0.0.7->spacy>=2.2.0->en-core-web-sm==2.2.0) (0.23)\n",
      "Requirement already satisfied: chardet<3.1.0,>=3.0.2 in /home/guest/anaconda3/lib/python3.7/site-packages (from requests<3.0.0,>=2.13.0->spacy>=2.2.0->en-core-web-sm==2.2.0) (3.0.4)\n",
      "Requirement already satisfied: idna<2.9,>=2.5 in /home/guest/anaconda3/lib/python3.7/site-packages (from requests<3.0.0,>=2.13.0->spacy>=2.2.0->en-core-web-sm==2.2.0) (2.8)\n",
      "Requirement already satisfied: certifi>=2017.4.17 in /home/guest/anaconda3/lib/python3.7/site-packages (from requests<3.0.0,>=2.13.0->spacy>=2.2.0->en-core-web-sm==2.2.0) (2019.9.11)\n",
      "Requirement already satisfied: urllib3!=1.25.0,!=1.25.1,<1.26,>=1.21.1 in /home/guest/anaconda3/lib/python3.7/site-packages (from requests<3.0.0,>=2.13.0->spacy>=2.2.0->en-core-web-sm==2.2.0) (1.24.2)\n",
      "Requirement already satisfied: zipp>=0.5 in /home/guest/anaconda3/lib/python3.7/site-packages (from importlib-metadata>=0.20; python_version < \"3.8\"->catalogue<1.1.0,>=0.0.7->spacy>=2.2.0->en-core-web-sm==2.2.0) (0.6.0)\n",
      "Requirement already satisfied: more-itertools in /home/guest/anaconda3/lib/python3.7/site-packages (from zipp>=0.5->importlib-metadata>=0.20; python_version < \"3.8\"->catalogue<1.1.0,>=0.0.7->spacy>=2.2.0->en-core-web-sm==2.2.0) (7.2.0)\n",
      "Building wheels for collected packages: en-core-web-sm\n",
      "  Building wheel for en-core-web-sm (setup.py) ... \u001b[?25ldone\n",
      "\u001b[?25h  Created wheel for en-core-web-sm: filename=en_core_web_sm-2.2.0-cp37-none-any.whl size=12019125 sha256=cbeef3aa9f92c07db842f4cff020c9c8ef9d6769f8c838caca6e6fee55736b17\n",
      "  Stored in directory: /home/guest/.cache/pip/wheels/86/be/e7/3cc9be674192f3acb09ff089f9b034fcf7dfd1a69bd45e7240\n",
      "Successfully built en-core-web-sm\n",
      "Installing collected packages: en-core-web-sm\n",
      "  Found existing installation: en-core-web-sm 2.2.0\n",
      "    Uninstalling en-core-web-sm-2.2.0:\n",
      "      Successfully uninstalled en-core-web-sm-2.2.0\n",
      "Successfully installed en-core-web-sm-2.2.0\n"
     ]
    }
   ],
   "source": [
    "# pip install https://github.com/explosion/spacy-models/releases/download/en_core_web_sm-2.2.0/en_core_web_sm-2.2.0.tar.gz\n",
    "!pip install en_core_web_sm-2.2.0.tar.gz"
   ]
  },
  {
   "cell_type": "code",
   "execution_count": 7,
   "metadata": {},
   "outputs": [
    {
     "name": "stdout",
     "output_type": "stream",
     "text": [
      "Requirement already up-to-date: gensim in /home/guest/anaconda3/lib/python3.7/site-packages (3.8.3)\n",
      "Requirement already satisfied, skipping upgrade: six>=1.5.0 in /home/guest/anaconda3/lib/python3.7/site-packages (from gensim) (1.12.0)\n",
      "Requirement already satisfied, skipping upgrade: smart-open>=1.8.1 in /home/guest/anaconda3/lib/python3.7/site-packages (from gensim) (2.0.0)\n",
      "Requirement already satisfied, skipping upgrade: scipy>=0.18.1 in /home/guest/anaconda3/lib/python3.7/site-packages (from gensim) (1.3.1)\n",
      "Requirement already satisfied, skipping upgrade: numpy>=1.11.3 in /home/guest/anaconda3/lib/python3.7/site-packages (from gensim) (1.17.2)\n",
      "Requirement already satisfied, skipping upgrade: boto3 in /home/guest/anaconda3/lib/python3.7/site-packages (from smart-open>=1.8.1->gensim) (1.13.19)\n",
      "Requirement already satisfied, skipping upgrade: boto in /home/guest/anaconda3/lib/python3.7/site-packages (from smart-open>=1.8.1->gensim) (2.49.0)\n",
      "Requirement already satisfied, skipping upgrade: requests in /home/guest/anaconda3/lib/python3.7/site-packages (from smart-open>=1.8.1->gensim) (2.22.0)\n",
      "Requirement already satisfied, skipping upgrade: s3transfer<0.4.0,>=0.3.0 in /home/guest/anaconda3/lib/python3.7/site-packages (from boto3->smart-open>=1.8.1->gensim) (0.3.3)\n",
      "Requirement already satisfied, skipping upgrade: jmespath<1.0.0,>=0.7.1 in /home/guest/anaconda3/lib/python3.7/site-packages (from boto3->smart-open>=1.8.1->gensim) (0.10.0)\n",
      "Requirement already satisfied, skipping upgrade: botocore<1.17.0,>=1.16.19 in /home/guest/anaconda3/lib/python3.7/site-packages (from boto3->smart-open>=1.8.1->gensim) (1.16.19)\n",
      "Requirement already satisfied, skipping upgrade: certifi>=2017.4.17 in /home/guest/anaconda3/lib/python3.7/site-packages (from requests->smart-open>=1.8.1->gensim) (2019.9.11)\n",
      "Requirement already satisfied, skipping upgrade: urllib3!=1.25.0,!=1.25.1,<1.26,>=1.21.1 in /home/guest/anaconda3/lib/python3.7/site-packages (from requests->smart-open>=1.8.1->gensim) (1.24.2)\n",
      "Requirement already satisfied, skipping upgrade: chardet<3.1.0,>=3.0.2 in /home/guest/anaconda3/lib/python3.7/site-packages (from requests->smart-open>=1.8.1->gensim) (3.0.4)\n",
      "Requirement already satisfied, skipping upgrade: idna<2.9,>=2.5 in /home/guest/anaconda3/lib/python3.7/site-packages (from requests->smart-open>=1.8.1->gensim) (2.8)\n",
      "Requirement already satisfied, skipping upgrade: docutils<0.16,>=0.10 in /home/guest/anaconda3/lib/python3.7/site-packages (from botocore<1.17.0,>=1.16.19->boto3->smart-open>=1.8.1->gensim) (0.15.2)\n",
      "Requirement already satisfied, skipping upgrade: python-dateutil<3.0.0,>=2.1 in /home/guest/anaconda3/lib/python3.7/site-packages (from botocore<1.17.0,>=1.16.19->boto3->smart-open>=1.8.1->gensim) (2.8.0)\n",
      "Note: you may need to restart the kernel to use updated packages.\n"
     ]
    }
   ],
   "source": [
    "pip install --upgrade gensim"
   ]
  },
  {
   "cell_type": "code",
   "execution_count": 8,
   "metadata": {
    "colab": {},
    "colab_type": "code",
    "id": "j68iTbe7Ft7J"
   },
   "outputs": [
    {
     "name": "stderr",
     "output_type": "stream",
     "text": [
      "/home/guest/anaconda3/lib/python3.7/site-packages/past/builtins/misc.py:4: DeprecationWarning: Using or importing the ABCs from 'collections' instead of from 'collections.abc' is deprecated, and in 3.8 it will stop working\n",
      "  from collections import Mapping\n"
     ]
    }
   ],
   "source": [
    "# Topic modeling\n",
    "# spacy for lemmatization\n",
    "import spacy;\n",
    "import en_core_web_sm\n",
    "# Gensim\n",
    "import gensim\n",
    "import gensim.corpora as corpora\n",
    "from gensim.utils import simple_preprocess\n",
    "from gensim.models import CoherenceModel\n",
    "\n",
    "# Plotting tools\n",
    "from pprint import pprint\n",
    "import pyLDAvis\n",
    "import pyLDAvis.gensim  # don't skip this\n",
    "import matplotlib.pyplot as plt\n",
    "%matplotlib inline\n",
    "\n",
    "# Enable logging for gensim - optional\n",
    "import logging\n",
    "logging.basicConfig(format='%(asctime)s : %(levelname)s : %(message)s', level=logging.ERROR)"
   ]
  },
  {
   "cell_type": "code",
   "execution_count": 9,
   "metadata": {
    "colab": {},
    "colab_type": "code",
    "id": "GtUA_6qiF9kn"
   },
   "outputs": [],
   "source": [
    "# read file\n",
    "df = pd.read_csv(\"psbb_final.csv\")"
   ]
  },
  {
   "cell_type": "code",
   "execution_count": 10,
   "metadata": {
    "colab": {},
    "colab_type": "code",
    "id": "gsoHUAjYGG4o"
   },
   "outputs": [],
   "source": [
    "# drop duplicate rows\n",
    "df.drop_duplicates(inplace =True)\n",
    "df.drop_duplicates(subset = ['Text'],inplace =True)"
   ]
  },
  {
   "cell_type": "code",
   "execution_count": 11,
   "metadata": {
    "colab": {
     "base_uri": "https://localhost:8080/",
     "height": 374
    },
    "colab_type": "code",
    "executionInfo": {
     "elapsed": 1225,
     "status": "ok",
     "timestamp": 1590884341656,
     "user": {
      "displayName": "Imam Hanafi Sistem Informasi",
      "photoUrl": "",
      "userId": "07450488865621521207"
     },
     "user_tz": -420
    },
    "id": "OHh0VLUIGHzX",
    "outputId": "f0e7f278-0275-4ac1-c22d-8bfbd522e8f2"
   },
   "outputs": [
    {
     "data": {
      "text/html": [
       "<div>\n",
       "<style scoped>\n",
       "    .dataframe tbody tr th:only-of-type {\n",
       "        vertical-align: middle;\n",
       "    }\n",
       "\n",
       "    .dataframe tbody tr th {\n",
       "        vertical-align: top;\n",
       "    }\n",
       "\n",
       "    .dataframe thead th {\n",
       "        text-align: right;\n",
       "    }\n",
       "</style>\n",
       "<table border=\"1\" class=\"dataframe\">\n",
       "  <thead>\n",
       "    <tr style=\"text-align: right;\">\n",
       "      <th></th>\n",
       "      <th>User</th>\n",
       "      <th>Text</th>\n",
       "      <th>Retweets</th>\n",
       "      <th>Favorites</th>\n",
       "      <th>HashTags</th>\n",
       "      <th>City</th>\n",
       "      <th>date</th>\n",
       "      <th>time</th>\n",
       "    </tr>\n",
       "  </thead>\n",
       "  <tbody>\n",
       "    <tr>\n",
       "      <td>0</td>\n",
       "      <td>golkar_empat</td>\n",
       "      <td>Pemerintah Siap Kembali Putar Roda Perekonomia...</td>\n",
       "      <td>0</td>\n",
       "      <td>0</td>\n",
       "      <td>#PSBB #NewNormal #indonesianewnormal #Indonesi...</td>\n",
       "      <td>Jakarta</td>\n",
       "      <td>2020-05-27</td>\n",
       "      <td>03-07-55</td>\n",
       "    </tr>\n",
       "    <tr>\n",
       "      <td>1</td>\n",
       "      <td>PedroPapakilo</td>\n",
       "      <td>Km 47 arah jakarta padat ada check point #puta...</td>\n",
       "      <td>0</td>\n",
       "      <td>0</td>\n",
       "      <td>#putarbalik #turnback #arusbalik #psbb #Checkp...</td>\n",
       "      <td>Jakarta</td>\n",
       "      <td>2020-05-26</td>\n",
       "      <td>04-16-47</td>\n",
       "    </tr>\n",
       "    <tr>\n",
       "      <td>2</td>\n",
       "      <td>PedroPapakilo</td>\n",
       "      <td>TL arah Kalibata dari PGC CONDET CILILITAN PAD...</td>\n",
       "      <td>0</td>\n",
       "      <td>0</td>\n",
       "      <td>#PSBBJakarta #PSBB #psbbbelumdilonggarkan</td>\n",
       "      <td>Jakarta</td>\n",
       "      <td>2020-05-25</td>\n",
       "      <td>10-07-16</td>\n",
       "    </tr>\n",
       "    <tr>\n",
       "      <td>3</td>\n",
       "      <td>thediyoon</td>\n",
       "      <td>#mudik dan #pulangkampung terhambat akibat #ps...</td>\n",
       "      <td>0</td>\n",
       "      <td>0</td>\n",
       "      <td>#mudik #pulangkampung #psbb #lebaran #lebaran</td>\n",
       "      <td>Jakarta</td>\n",
       "      <td>2020-05-25</td>\n",
       "      <td>03-46-16</td>\n",
       "    </tr>\n",
       "    <tr>\n",
       "      <td>4</td>\n",
       "      <td>thediyoon</td>\n",
       "      <td>#mudik dan #pulangkampung terhambat akibat #ps...</td>\n",
       "      <td>0</td>\n",
       "      <td>0</td>\n",
       "      <td>#mudik #pulangkampung #psbb #lebaran #lebaran</td>\n",
       "      <td>Jakarta</td>\n",
       "      <td>2020-05-25</td>\n",
       "      <td>03-33-10</td>\n",
       "    </tr>\n",
       "  </tbody>\n",
       "</table>\n",
       "</div>"
      ],
      "text/plain": [
       "            User                                               Text  Retweets  \\\n",
       "0   golkar_empat  Pemerintah Siap Kembali Putar Roda Perekonomia...         0   \n",
       "1  PedroPapakilo  Km 47 arah jakarta padat ada check point #puta...         0   \n",
       "2  PedroPapakilo  TL arah Kalibata dari PGC CONDET CILILITAN PAD...         0   \n",
       "3      thediyoon  #mudik dan #pulangkampung terhambat akibat #ps...         0   \n",
       "4      thediyoon  #mudik dan #pulangkampung terhambat akibat #ps...         0   \n",
       "\n",
       "   Favorites                                           HashTags     City  \\\n",
       "0          0  #PSBB #NewNormal #indonesianewnormal #Indonesi...  Jakarta   \n",
       "1          0  #putarbalik #turnback #arusbalik #psbb #Checkp...  Jakarta   \n",
       "2          0          #PSBBJakarta #PSBB #psbbbelumdilonggarkan  Jakarta   \n",
       "3          0      #mudik #pulangkampung #psbb #lebaran #lebaran  Jakarta   \n",
       "4          0      #mudik #pulangkampung #psbb #lebaran #lebaran  Jakarta   \n",
       "\n",
       "         date      time  \n",
       "0  2020-05-27  03-07-55  \n",
       "1  2020-05-26  04-16-47  \n",
       "2  2020-05-25  10-07-16  \n",
       "3  2020-05-25  03-46-16  \n",
       "4  2020-05-25  03-33-10  "
      ]
     },
     "execution_count": 11,
     "metadata": {},
     "output_type": "execute_result"
    }
   ],
   "source": [
    "df.head()"
   ]
  },
  {
   "cell_type": "code",
   "execution_count": 12,
   "metadata": {
    "colab": {
     "base_uri": "https://localhost:8080/",
     "height": 107
    },
    "colab_type": "code",
    "executionInfo": {
     "elapsed": 1244,
     "status": "ok",
     "timestamp": 1590884364138,
     "user": {
      "displayName": "Imam Hanafi Sistem Informasi",
      "photoUrl": "",
      "userId": "07450488865621521207"
     },
     "user_tz": -420
    },
    "id": "AMAVqwvpGK4_",
    "outputId": "b7e27c8e-6cca-416a-989a-64e067d87150"
   },
   "outputs": [
    {
     "name": "stdout",
     "output_type": "stream",
     "text": [
      "shape: (544, 8)\n",
      "number of tweets: 544\n",
      "number of users: 353\n",
      "range: 2020-04-28 , 2020-05-27\n",
      "dates: 30\n"
     ]
    }
   ],
   "source": [
    "print('shape:', df.shape)\n",
    "print('number of tweets:', df['Text'].nunique())\n",
    "print('number of users:', df['User'].nunique())\n",
    "\n",
    "print(\"range:\", df['date'].min(),\",\", df['date'].max())\n",
    "print(\"dates:\",df['date'].nunique())"
   ]
  },
  {
   "cell_type": "code",
   "execution_count": 13,
   "metadata": {
    "colab": {
     "base_uri": "https://localhost:8080/",
     "height": 85
    },
    "colab_type": "code",
    "executionInfo": {
     "elapsed": 984,
     "status": "ok",
     "timestamp": 1590884386034,
     "user": {
      "displayName": "Imam Hanafi Sistem Informasi",
      "photoUrl": "",
      "userId": "07450488865621521207"
     },
     "user_tz": -420
    },
    "id": "qZcHyAohGQLW",
    "outputId": "b1162b38-8b30-4660-8a2e-2fe96a8e7cb8"
   },
   "outputs": [
    {
     "name": "stdout",
     "output_type": "stream",
     "text": [
      "Your selected dataframe has 8 columns.\n",
      "There are 0 columns that have missing values.\n"
     ]
    },
    {
     "data": {
      "text/html": [
       "<div>\n",
       "<style scoped>\n",
       "    .dataframe tbody tr th:only-of-type {\n",
       "        vertical-align: middle;\n",
       "    }\n",
       "\n",
       "    .dataframe tbody tr th {\n",
       "        vertical-align: top;\n",
       "    }\n",
       "\n",
       "    .dataframe thead th {\n",
       "        text-align: right;\n",
       "    }\n",
       "</style>\n",
       "<table border=\"1\" class=\"dataframe\">\n",
       "  <thead>\n",
       "    <tr style=\"text-align: right;\">\n",
       "      <th></th>\n",
       "      <th>Missing Values</th>\n",
       "      <th>% of Total Values</th>\n",
       "    </tr>\n",
       "  </thead>\n",
       "  <tbody>\n",
       "  </tbody>\n",
       "</table>\n",
       "</div>"
      ],
      "text/plain": [
       "Empty DataFrame\n",
       "Columns: [Missing Values, % of Total Values]\n",
       "Index: []"
      ]
     },
     "execution_count": 13,
     "metadata": {},
     "output_type": "execute_result"
    }
   ],
   "source": [
    "# get information about the number of missing values and their percentage\n",
    "def missing_values_table(df):\n",
    "        # Total missing values\n",
    "        mis_val = df.isnull().sum()\n",
    "        \n",
    "        # Percentage of missing values\n",
    "        mis_val_percent = 100 * df.isnull().sum() / len(df)\n",
    "        \n",
    "        # Make a table with the results\n",
    "        mis_val_table = pd.concat([mis_val, mis_val_percent], axis=1)\n",
    "        \n",
    "        # Rename the columns\n",
    "        mis_val_table_ren_columns = mis_val_table.rename(\n",
    "        columns = {0 : 'Missing Values', 1 : '% of Total Values'})\n",
    "        \n",
    "        # Sort the table by percentage of missing descending\n",
    "        mis_val_table_ren_columns = mis_val_table_ren_columns[\n",
    "            mis_val_table_ren_columns.iloc[:,1] != 0].sort_values(\n",
    "        '% of Total Values', ascending=False).round(1)\n",
    "        \n",
    "        # Print some summary information\n",
    "        print (\"Your selected dataframe has \" + str(df.shape[1]) + \" columns.\\n\"      \n",
    "            \"There are \" + str(mis_val_table_ren_columns.shape[0]) +\n",
    "              \" columns that have missing values.\")\n",
    "        \n",
    "        # Return the dataframe with missing information\n",
    "        return mis_val_table_ren_columns\n",
    "    \n",
    "missing_values_table(df)"
   ]
  },
  {
   "cell_type": "code",
   "execution_count": 14,
   "metadata": {
    "colab": {
     "base_uri": "https://localhost:8080/",
     "height": 406
    },
    "colab_type": "code",
    "executionInfo": {
     "elapsed": 1454,
     "status": "ok",
     "timestamp": 1590884412536,
     "user": {
      "displayName": "Imam Hanafi Sistem Informasi",
      "photoUrl": "",
      "userId": "07450488865621521207"
     },
     "user_tz": -420
    },
    "id": "mhZspkgqGV5a",
    "outputId": "61ababad-d076-4d5e-a291-d081df80c0ec"
   },
   "outputs": [
    {
     "data": {
      "text/plain": [
       "Text(0.5, 1.0, 'Number of Tweets per day')"
      ]
     },
     "execution_count": 14,
     "metadata": {},
     "output_type": "execute_result"
    },
    {
     "data": {
      "image/png": "[encoded data removed]",
      "text/plain": [
       "<Figure size 864x360 with 1 Axes>"
      ]
     },
     "metadata": {
      "needs_background": "light"
     },
     "output_type": "display_data"
    }
   ],
   "source": [
    "# plot number of tweets everyday\n",
    "fig = plt.figure(figsize = (12,5))\n",
    "chart = sns.countplot(df['date'], order = sorted(df['date'].unique()))\n",
    "chart.set_xticklabels(chart.get_xticklabels(), rotation=45)\n",
    "chart.set_title('Number of Tweets per day')"
   ]
  },
  {
   "cell_type": "code",
   "execution_count": 16,
   "metadata": {
    "colab": {},
    "colab_type": "code",
    "id": "yuRycvgqGbbN"
   },
   "outputs": [],
   "source": [
    "# dates = sorted(df['date'].unique())\n",
    "# fig= plt.figure(figsize=(12,4))\n",
    "# chart = sns.countplot(df.groupby(['User'])['date'].min(), order = dates)\n",
    "# chart.set_xticklabels(chart.get_xticklabels(), rotation=45)\n",
    "# chart.set_title('Number of Users per day')"
   ]
  },
  {
   "cell_type": "code",
   "execution_count": 17,
   "metadata": {
    "colab": {
     "base_uri": "https://localhost:8080/",
     "height": 446
    },
    "colab_type": "code",
    "executionInfo": {
     "elapsed": 1422,
     "status": "ok",
     "timestamp": 1590884440526,
     "user": {
      "displayName": "Imam Hanafi Sistem Informasi",
      "photoUrl": "",
      "userId": "07450488865621521207"
     },
     "user_tz": -420
    },
    "id": "px8WSlgQGe-0",
    "outputId": "401de6b7-4807-4087-b2d9-ba36bf0691a6"
   },
   "outputs": [
    {
     "data": {
      "text/plain": [
       "Text(0.5, 1.0, 'Number of Tweets in Different Cities Groups across Dates')"
      ]
     },
     "execution_count": 17,
     "metadata": {},
     "output_type": "execute_result"
    },
    {
     "data": {
      "image/png": "[encoded data removed]",
      "text/plain": [
       "<Figure size 864x432 with 1 Axes>"
      ]
     },
     "metadata": {
      "needs_background": "light"
     },
     "output_type": "display_data"
    }
   ],
   "source": [
    "# plot number of tweets everyday in each city \n",
    "pivot = pd.pivot_table(df, index=['City'],\n",
    "                         columns=['date'],\n",
    "                         values=['Text'], \n",
    "                         aggfunc = lambda x: len(x), \n",
    "                         fill_value=0)\n",
    "\n",
    "fig= plt.figure(figsize = (12,6))\n",
    "plt.stackplot(sorted(df['date'].unique()), pivot.values, labels = pivot.index)\n",
    "ax = plt.gca()\n",
    "ax.set_xticks(sorted(df['date'].unique()))\n",
    "plt.xticks(rotation=45)\n",
    "plt.legend(loc='upper left')\n",
    "plt.title('Number of Tweets in Different Cities Groups across Dates')"
   ]
  },
  {
   "cell_type": "code",
   "execution_count": 18,
   "metadata": {
    "colab": {},
    "colab_type": "code",
    "id": "yn3CwjEkGkw3"
   },
   "outputs": [],
   "source": [
    "# extract data that doesn't contain NAs only\n",
    "df = df[df['HashTags'].notna()]"
   ]
  },
  {
   "cell_type": "code",
   "execution_count": 19,
   "metadata": {
    "colab": {},
    "colab_type": "code",
    "id": "K4xiZBXhGw00"
   },
   "outputs": [],
   "source": [
    "# since there's not a lot of twitter before 2020-03-13, we only need data after 2020-03-13\n",
    "df = df[df['date']>'2020-04-27']"
   ]
  },
  {
   "cell_type": "code",
   "execution_count": 20,
   "metadata": {
    "colab": {},
    "colab_type": "code",
    "id": "hQvJRQkLG144"
   },
   "outputs": [],
   "source": [
    "# get rid of all kinds of strange symbols from text\n",
    "def preprocess(Text):\n",
    "    Text = Text.str.replace(\"(<br/>)\", \"\")\n",
    "    Text = Text.str.replace('(<a).*(>).*(</a>)', '')\n",
    "    Text = Text.str.replace('(&amp)', '')\n",
    "    Text = Text.str.replace('(&gt)', '')\n",
    "    Text = Text.str.replace('(&lt)', '')\n",
    "    Text = Text.str.replace('(\\xa0…)', ' ')  \n",
    "    Text = Text.str.replace('(\\n)', ' ')\n",
    "    Text = Text.str.replace('+', '')\n",
    "    return Text\n",
    "\n",
    "# remove urls from text\n",
    "def remove_urls(row):\n",
    "    url_pattern = re.compile(r\"https?://\\S+|www\\.\\S+\")\n",
    "    row =  url_pattern.sub(r'', row)\n",
    "    return row\n",
    "\n",
    "# remove @accounts (@[A-Za-z0–9]+)|, emojis，#hashtags, com frin text\n",
    "def removes(row):\n",
    "    url_pattern = re.compile(r\"(\\w+:\\/\\/\\S+)|(#(\\w+))|(.twitter.com/[A-Za-z0–9]+)\")\n",
    "    row =  url_pattern.sub(r'', row)\n",
    "    return row"
   ]
  },
  {
   "cell_type": "code",
   "execution_count": 21,
   "metadata": {
    "colab": {},
    "colab_type": "code",
    "id": "mkGVIm10G64y"
   },
   "outputs": [],
   "source": [
    "# apply all the preprocess functions\n",
    "df['text_nlp'] = preprocess(df.Text)\n",
    "df['text_nlp'] = df['text_nlp'].apply(remove_urls)\n",
    "df['text_nlp'] = df['text_nlp'].apply(removes)"
   ]
  },
  {
   "cell_type": "code",
   "execution_count": 22,
   "metadata": {
    "colab": {
     "base_uri": "https://localhost:8080/",
     "height": 55
    },
    "colab_type": "code",
    "executionInfo": {
     "elapsed": 1245,
     "status": "ok",
     "timestamp": 1590884575656,
     "user": {
      "displayName": "Imam Hanafi Sistem Informasi",
      "photoUrl": "",
      "userId": "07450488865621521207"
     },
     "user_tz": -420
    },
    "id": "UQ3jelnVG9bw",
    "outputId": "6d69ecb4-d196-4a36-b988-a04ae5e62fa9"
   },
   "outputs": [
    {
     "data": {
      "text/plain": [
       "'Pemerintah Siap Kembali Putar Roda Perekonomian Menuju New Normal #PSBB #NewNormal #indonesianewnormal #IndonesiaMaju #GolkarPeduli #GolkarInfo #GolkarUpdate #GolkarNews - beringin NEWS'"
      ]
     },
     "execution_count": 22,
     "metadata": {},
     "output_type": "execute_result"
    }
   ],
   "source": [
    "df.Text[0]"
   ]
  },
  {
   "cell_type": "code",
   "execution_count": 23,
   "metadata": {
    "colab": {
     "base_uri": "https://localhost:8080/",
     "height": 35
    },
    "colab_type": "code",
    "executionInfo": {
     "elapsed": 1240,
     "status": "ok",
     "timestamp": 1590884593285,
     "user": {
      "displayName": "Imam Hanafi Sistem Informasi",
      "photoUrl": "",
      "userId": "07450488865621521207"
     },
     "user_tz": -420
    },
    "id": "5tVCWqqGHDlO",
    "outputId": "125899ed-53c5-4fdf-e41d-9cbf5fed212f"
   },
   "outputs": [
    {
     "data": {
      "text/plain": [
       "'Pemerintah Siap Kembali Putar Roda Perekonomian Menuju New Normal         - beringin NEWS'"
      ]
     },
     "execution_count": 23,
     "metadata": {},
     "output_type": "execute_result"
    }
   ],
   "source": [
    "df.text_nlp[0]"
   ]
  },
  {
   "cell_type": "code",
   "execution_count": 24,
   "metadata": {
    "colab": {},
    "colab_type": "code",
    "id": "mmHXL6vfHHxD"
   },
   "outputs": [],
   "source": [
    "# Get the lenghth of text and word count\n",
    "df['text_len'] = df.text_nlp.astype(str).apply(len)\n",
    "df['word_count'] = df.text_nlp.apply(lambda x: len(str(x).split()))"
   ]
  },
  {
   "cell_type": "code",
   "execution_count": 25,
   "metadata": {
    "colab": {},
    "colab_type": "code",
    "id": "U79vk3oVHKtv"
   },
   "outputs": [],
   "source": [
    "# fig= plt.figure(figsize = (12,5))\n",
    "# sns.countplot(df['word_count'])"
   ]
  },
  {
   "cell_type": "code",
   "execution_count": 26,
   "metadata": {
    "colab": {},
    "colab_type": "code",
    "id": "xhSMnlabHORn"
   },
   "outputs": [],
   "source": [
    "# Handling Abbreviation\n",
    "def decontracted(phrase):\n",
    "    phrase = re.sub(r\"j\\'gn\", \" jangan\", phrase)   \n",
    "    phrase = re.sub(r\"t\\'dk\", \" tidak\", phrase)\n",
    "    phrase = re.sub(r\"\\'dm\", \" direct message\", phrase)\n",
    "    phrase = re.sub(r\"\\'rmh\", \" rumah\", phrase)\n",
    "    phrase = re.sub(r\"\\'ktr\", \" kantor\", phrase)\n",
    "    phrase = re.sub(r\"\\'jln\", \" jalan\", phrase)\n",
    "    phrase = re.sub(r\"\\'sy\", \" saya\", phrase)\n",
    "    phrase = re.sub(r\"aja\", \" saja\", phrase)\n",
    "    return phrase\n",
    "\n",
    "# decontracte words\n",
    "df.text_nlp = df.text_nlp.apply(lambda x: decontracted(x).lower())"
   ]
  },
  {
   "cell_type": "code",
   "execution_count": 27,
   "metadata": {
    "colab": {},
    "colab_type": "code",
    "id": "IeI0v0HfH7N7"
   },
   "outputs": [],
   "source": [
    "# remove stop words\n",
    "stop_words = stopwords.words('indonesian')\n",
    "not_stopwords = {}\n",
    "common_words = ['sebagai', 'saya', 'nya', 'bahwa', 'dia', 'adalah', 'untuk', 'pada', 'adalah', 'dengan', \n",
    "                'mereka', 'menjadi', 'di', 'satu', 'memiliki', 'ini', 'dari', 'oleh', 'hot', 'kata', \n",
    "                'tapi', 'apa', 'beberapa', 'adalah', 'itu', 'anda', 'atau', 'memiliki', 'itu', 'dari', \n",
    "                'untuk', 'dan', 'sebuah', 'di', 'kami', 'bisa', 'out', 'lainnya', 'yang', \n",
    "                'melakukan', 'mereka', 'waktu', 'jika', 'akan', 'bagaimana', 'kata', 'an', 'masing-masing', 'memberitahu', \n",
    "                'tidak', 'kumpulan', 'tiga', 'ingin', 'udara', 'baik', 'juga', 'bermain', 'kecil', 'end', \n",
    "                'menempatkan', 'rumah', 'baca', 'tangan', 'pelabuhan', 'besar', 'mantra', 'tambahkan', 'bahkan', 'tanah']\n",
    "stop_words.extend(word for word in common_words if word not in stop_words)\n",
    "final_stop_words = set([word for word in stop_words if word not in not_stopwords])\n",
    "df.text_nlp = df.text_nlp.apply(lambda x: ' '.join([word for word in x.split() if word not in final_stop_words]))"
   ]
  },
  {
   "cell_type": "code",
   "execution_count": 28,
   "metadata": {
    "colab": {},
    "colab_type": "code",
    "id": "v4CNtppqH_LT"
   },
   "outputs": [],
   "source": [
    "# remove whitespace and punctuations\n",
    "rm_punc = re.compile(r\"(\\W)\")\n",
    "rm_space = re.compile(r\"(\\s+)\")\n",
    "df.text_nlp = df.text_nlp.apply(lambda x: rm_punc.sub(' ', x))\n",
    "df.text_nlp = df.text_nlp.apply(lambda x: rm_space.sub(' ', x))"
   ]
  },
  {
   "cell_type": "code",
   "execution_count": 29,
   "metadata": {
    "colab": {
     "base_uri": "https://localhost:8080/",
     "height": 35
    },
    "colab_type": "code",
    "executionInfo": {
     "elapsed": 1318,
     "status": "ok",
     "timestamp": 1590884852457,
     "user": {
      "displayName": "Imam Hanafi Sistem Informasi",
      "photoUrl": "",
      "userId": "07450488865621521207"
     },
     "user_tz": -420
    },
    "id": "C6qUurtmIDMG",
    "outputId": "0c1fc9f2-27c6-4136-da52-a6f1c4422482"
   },
   "outputs": [
    {
     "data": {
      "text/plain": [
       "'pemerintah putar roda perekonomian new normal beringin news'"
      ]
     },
     "execution_count": 29,
     "metadata": {},
     "output_type": "execute_result"
    }
   ],
   "source": [
    "df.text_nlp[0]"
   ]
  },
  {
   "cell_type": "code",
   "execution_count": 30,
   "metadata": {},
   "outputs": [],
   "source": [
    "StayHome = df"
   ]
  },
  {
   "cell_type": "code",
   "execution_count": 31,
   "metadata": {
    "colab": {
     "base_uri": "https://localhost:8080/",
     "height": 415
    },
    "colab_type": "code",
    "executionInfo": {
     "elapsed": 1456,
     "status": "ok",
     "timestamp": 1590884881894,
     "user": {
      "displayName": "Imam Hanafi Sistem Informasi",
      "photoUrl": "",
      "userId": "07450488865621521207"
     },
     "user_tz": -420
    },
    "id": "PqkuNM2FIKI4",
    "outputId": "4ddbccdc-1c31-4440-8a83-1619239f76c4"
   },
   "outputs": [
    {
     "name": "stderr",
     "output_type": "stream",
     "text": [
      "/home/guest/anaconda3/lib/python3.7/site-packages/ipykernel_launcher.py:6: SettingWithCopyWarning: \n",
      "A value is trying to be set on a copy of a slice from a DataFrame\n",
      "\n",
      "See the caveats in the documentation: http://pandas.pydata.org/pandas-docs/stable/user_guide/indexing.html#returning-a-view-versus-a-copy\n",
      "  \n",
      "/home/guest/anaconda3/lib/python3.7/site-packages/ipykernel_launcher.py:7: SettingWithCopyWarning: \n",
      "A value is trying to be set on a copy of a slice from a DataFrame\n",
      "\n",
      "See the caveats in the documentation: http://pandas.pydata.org/pandas-docs/stable/user_guide/indexing.html#returning-a-view-versus-a-copy\n",
      "  import sys\n",
      "/home/guest/anaconda3/lib/python3.7/site-packages/ipykernel_launcher.py:8: SettingWithCopyWarning: \n",
      "A value is trying to be set on a copy of a slice from a DataFrame\n",
      "\n",
      "See the caveats in the documentation: http://pandas.pydata.org/pandas-docs/stable/user_guide/indexing.html#returning-a-view-versus-a-copy\n",
      "  \n"
     ]
    }
   ],
   "source": [
    "# get the polarity of each text\n",
    "df['polarity'] = df.text_nlp.map(lambda text: TextBlob(text).sentiment.polarity)\n",
    "\n",
    "# classify sentiment into positive and negative ones\n",
    "df['sentiment'] = ''\n",
    "df['sentiment'][df['polarity'] > 0] = 'positive'\n",
    "df['sentiment'][df['polarity'] == 0] = 'neutral'\n",
    "df['sentiment'][df['polarity'] < 0] = 'negative'"
   ]
  },
  {
   "cell_type": "code",
   "execution_count": 32,
   "metadata": {
    "colab": {
     "base_uri": "https://localhost:8080/",
     "height": 356
    },
    "colab_type": "code",
    "executionInfo": {
     "elapsed": 1384,
     "status": "ok",
     "timestamp": 1590884900296,
     "user": {
      "displayName": "Imam Hanafi Sistem Informasi",
      "photoUrl": "",
      "userId": "07450488865621521207"
     },
     "user_tz": -420
    },
    "id": "16FaQiouIOWm",
    "outputId": "03a5ee7e-7daa-42bc-e76e-544c066110a2"
   },
   "outputs": [
    {
     "data": {
      "text/plain": [
       "(0, 600)"
      ]
     },
     "execution_count": 32,
     "metadata": {},
     "output_type": "execute_result"
    },
    {
     "data": {
      "image/png": "[encoded data removed]",
      "text/plain": [
       "<Figure size 864x360 with 1 Axes>"
      ]
     },
     "metadata": {
      "needs_background": "light"
     },
     "output_type": "display_data"
    }
   ],
   "source": [
    "fig = plt.figure(figsize=(12,5))\n",
    "sns.distplot(df['polarity'],kde = False)\n",
    "plt.ylim(0, 600)"
   ]
  },
  {
   "cell_type": "code",
   "execution_count": 33,
   "metadata": {
    "colab": {
     "base_uri": "https://localhost:8080/",
     "height": 366
    },
    "colab_type": "code",
    "executionInfo": {
     "elapsed": 2925,
     "status": "ok",
     "timestamp": 1590886355420,
     "user": {
      "displayName": "Imam Hanafi Sistem Informasi",
      "photoUrl": "",
      "userId": "07450488865621521207"
     },
     "user_tz": -420
    },
    "id": "QWcK53zBITBL",
    "outputId": "b5a6fa25-dc8c-4d2f-bad8-bce1a7eaf78a"
   },
   "outputs": [
    {
     "data": {
      "text/html": [
       "<div>\n",
       "<style scoped>\n",
       "    .dataframe tbody tr th:only-of-type {\n",
       "        vertical-align: middle;\n",
       "    }\n",
       "\n",
       "    .dataframe tbody tr th {\n",
       "        vertical-align: top;\n",
       "    }\n",
       "\n",
       "    .dataframe thead th {\n",
       "        text-align: right;\n",
       "    }\n",
       "</style>\n",
       "<table border=\"1\" class=\"dataframe\">\n",
       "  <thead>\n",
       "    <tr style=\"text-align: right;\">\n",
       "      <th></th>\n",
       "      <th>User</th>\n",
       "      <th>Text</th>\n",
       "      <th>Retweets</th>\n",
       "      <th>Favorites</th>\n",
       "      <th>HashTags</th>\n",
       "      <th>City</th>\n",
       "      <th>date</th>\n",
       "      <th>time</th>\n",
       "      <th>text_nlp</th>\n",
       "      <th>text_len</th>\n",
       "      <th>word_count</th>\n",
       "      <th>polarity</th>\n",
       "      <th>sentiment</th>\n",
       "    </tr>\n",
       "  </thead>\n",
       "  <tbody>\n",
       "    <tr>\n",
       "      <td>62</td>\n",
       "      <td>firdaus71</td>\n",
       "      <td>\"jalan x ditutup aja, guna menanggulangi orang...</td>\n",
       "      <td>0</td>\n",
       "      <td>0</td>\n",
       "      <td>#COVID19 #PSBB #StayHome #StayHome</td>\n",
       "      <td>SBY</td>\n",
       "      <td>2020-05-08</td>\n",
       "      <td>04-36-24</td>\n",
       "      <td>jalan x ditutup saja menanggulangi orang masu...</td>\n",
       "      <td>218</td>\n",
       "      <td>31</td>\n",
       "      <td>-0.5</td>\n",
       "      <td>negative</td>\n",
       "    </tr>\n",
       "  </tbody>\n",
       "</table>\n",
       "</div>"
      ],
      "text/plain": [
       "         User                                               Text  Retweets  \\\n",
       "62  firdaus71  \"jalan x ditutup aja, guna menanggulangi orang...         0   \n",
       "\n",
       "    Favorites                            HashTags City        date      time  \\\n",
       "62          0  #COVID19 #PSBB #StayHome #StayHome  SBY  2020-05-08  04-36-24   \n",
       "\n",
       "                                             text_nlp  text_len  word_count  \\\n",
       "62   jalan x ditutup saja menanggulangi orang masu...       218          31   \n",
       "\n",
       "    polarity sentiment  \n",
       "62      -0.5  negative  "
      ]
     },
     "execution_count": 33,
     "metadata": {},
     "output_type": "execute_result"
    }
   ],
   "source": [
    "df[df['polarity']<-0.4]"
   ]
  },
  {
   "cell_type": "code",
   "execution_count": 34,
   "metadata": {
    "colab": {
     "base_uri": "https://localhost:8080/",
     "height": 107
    },
    "colab_type": "code",
    "executionInfo": {
     "elapsed": 1326,
     "status": "ok",
     "timestamp": 1590886379728,
     "user": {
      "displayName": "Imam Hanafi Sistem Informasi",
      "photoUrl": "",
      "userId": "07450488865621521207"
     },
     "user_tz": -420
    },
    "id": "ogyIpHqCN6C8",
    "outputId": "90588a33-d0a7-45cd-cf8c-1ca92d86bcfd"
   },
   "outputs": [
    {
     "data": {
      "text/plain": [
       "sentiment\n",
       "negative      8\n",
       "neutral     498\n",
       "positive     38\n",
       "Name: Text, dtype: int64"
      ]
     },
     "execution_count": 34,
     "metadata": {},
     "output_type": "execute_result"
    }
   ],
   "source": [
    "# Sentiment \n",
    "df.groupby('sentiment').Text.count()"
   ]
  },
  {
   "cell_type": "code",
   "execution_count": 35,
   "metadata": {
    "colab": {
     "base_uri": "https://localhost:8080/",
     "height": 373
    },
    "colab_type": "code",
    "executionInfo": {
     "elapsed": 1468,
     "status": "ok",
     "timestamp": 1590886402115,
     "user": {
      "displayName": "Imam Hanafi Sistem Informasi",
      "photoUrl": "",
      "userId": "07450488865621521207"
     },
     "user_tz": -420
    },
    "id": "OvHysyxEN_v8",
    "outputId": "9330ae5d-9d3b-4f32-dbde-ea19a08f9b80"
   },
   "outputs": [
    {
     "data": {
      "image/png": "[encoded data removed]",
      "text/plain": [
       "<Figure size 432x432 with 1 Axes>"
      ]
     },
     "metadata": {},
     "output_type": "display_data"
    }
   ],
   "source": [
    "# draw a pie chart to show the ratio of 'Negative', 'Neutral' and 'Positive' tweets\n",
    "fig = plt.figure(figsize=(6,6))\n",
    "labels = 'Negative', 'Neutral', 'Positive'\n",
    "sizes = df.groupby('sentiment').Text.count().values\n",
    "colors = ['gold', 'lightcoral', 'lightskyblue']\n",
    "explode = (0.1, 0, 0) \n",
    "\n",
    "# Plot\n",
    "plt.pie(sizes, explode=explode, labels=labels, colors=colors,\n",
    "autopct='%1.2f%%', shadow=True, startangle=140)\n",
    "plt.title('The Proportion of Three Sentiments')\n",
    "plt.show()"
   ]
  },
  {
   "cell_type": "code",
   "execution_count": 36,
   "metadata": {
    "colab": {
     "base_uri": "https://localhost:8080/",
     "height": 313
    },
    "colab_type": "code",
    "executionInfo": {
     "elapsed": 1365,
     "status": "ok",
     "timestamp": 1590886423036,
     "user": {
      "displayName": "Imam Hanafi Sistem Informasi",
      "photoUrl": "",
      "userId": "07450488865621521207"
     },
     "user_tz": -420
    },
    "id": "9MLcBN_KOEqz",
    "outputId": "c6ae35f3-109e-431d-e484-adbe33d24e43"
   },
   "outputs": [
    {
     "data": {
      "text/plain": [
       "Text(0.5, 1.0, 'Average sentiment of Tweets across Dates')"
      ]
     },
     "execution_count": 36,
     "metadata": {},
     "output_type": "execute_result"
    },
    {
     "data": {
      "image/png": "[encoded data removed]",
      "text/plain": [
       "<Figure size 720x288 with 1 Axes>"
      ]
     },
     "metadata": {
      "needs_background": "light"
     },
     "output_type": "display_data"
    }
   ],
   "source": [
    "# plot sentiment fluctuation with date\n",
    "fig, ax1 = plt.subplots(figsize=(10,4))\n",
    "df.groupby(['date']).mean()['polarity'].plot(kind = 'line')\n",
    "plt.title('Average sentiment of Tweets across Dates')"
   ]
  },
  {
   "cell_type": "code",
   "execution_count": 37,
   "metadata": {
    "colab": {
     "base_uri": "https://localhost:8080/",
     "height": 35
    },
    "colab_type": "code",
    "executionInfo": {
     "elapsed": 1358,
     "status": "ok",
     "timestamp": 1590886446062,
     "user": {
      "displayName": "Imam Hanafi Sistem Informasi",
      "photoUrl": "",
      "userId": "07450488865621521207"
     },
     "user_tz": -420
    },
    "id": "8s5bNwn8OKin",
    "outputId": "a1b7440e-eeb1-4c92-cc4b-fc44445bd9a3"
   },
   "outputs": [
    {
     "name": "stderr",
     "output_type": "stream",
     "text": [
      "100%|██████████| 544/544 [00:00<00:00, 27631.20it/s]\n"
     ]
    }
   ],
   "source": [
    "# Create word frequency count\n",
    "num_words = 300\n",
    "word2count = {}\n",
    "for i in tqdm(range(len(df['text_nlp']))): \n",
    "    for word in df['text_nlp'].iloc[i].split():\n",
    "        if word not in word2count.keys(): \n",
    "            word2count[word] = 1\n",
    "        else: \n",
    "            word2count[word] += 1\n",
    "            \n",
    "freq_words = heapq.nlargest(num_words, word2count, key=word2count.get)"
   ]
  },
  {
   "cell_type": "code",
   "execution_count": 38,
   "metadata": {
    "colab": {
     "base_uri": "https://localhost:8080/",
     "height": 89
    },
    "colab_type": "code",
    "executionInfo": {
     "elapsed": 36047,
     "status": "ok",
     "timestamp": 1590886535435,
     "user": {
      "displayName": "Imam Hanafi Sistem Informasi",
      "photoUrl": "",
      "userId": "07450488865621521207"
     },
     "user_tz": -420
    },
    "id": "eCVwincHOL0y",
    "outputId": "b2450b18-b7ba-48c7-f88e-1d3e60482bbb"
   },
   "outputs": [
    {
     "name": "stderr",
     "output_type": "stream",
     "text": [
      "/home/guest/anaconda3/lib/python3.7/site-packages/PIL/Image.py:989: UserWarning: Palette images with Transparency expressed in bytes should be converted to RGBA images\n",
      "  \"Palette images with Transparency expressed in bytes should be \"\n"
     ]
    }
   ],
   "source": [
    "from wordcloud import WordCloud, ImageColorGenerator\n",
    "from os import path, getcwd\n",
    "from PIL import Image\n",
    "d = getcwd()\n",
    "mask = np.array(Image.open(path.join(d,'download.png')).convert(\"RGB\"))\n",
    "color = np.array(Image.open(path.join(d,'download.png')).convert(\"RGB\"))\n",
    "\n",
    "def func(arr):   \n",
    "    if(arr[2]==0):\n",
    "        return np.array([255,255,255],dtype=\"uint8\")\n",
    "    else:\n",
    "        return arr\n",
    "\n",
    "mask=np.apply_along_axis(func, 2, mask)\n",
    "color=np.apply_along_axis(func, 2, color)"
   ]
  },
  {
   "cell_type": "code",
   "execution_count": 39,
   "metadata": {
    "colab": {
     "base_uri": "https://localhost:8080/",
     "height": 89
    },
    "colab_type": "code",
    "executionInfo": {
     "elapsed": 18095,
     "status": "ok",
     "timestamp": 1590886559332,
     "user": {
      "displayName": "Imam Hanafi Sistem Informasi",
      "photoUrl": "",
      "userId": "07450488865621521207"
     },
     "user_tz": -420
    },
    "id": "NrLiJn2GOhww",
    "outputId": "61e07040-5da0-4d27-8f72-2bbec38f705b"
   },
   "outputs": [],
   "source": [
    "red = np.array(Image.open(path.join(d,'download.png')).convert(\"RGB\"))\n",
    "red=np.apply_along_axis(func, 2, red)"
   ]
  },
  {
   "cell_type": "code",
   "execution_count": 40,
   "metadata": {
    "colab": {
     "base_uri": "https://localhost:8080/",
     "height": 960
    },
    "colab_type": "code",
    "executionInfo": {
     "elapsed": 1467,
     "status": "ok",
     "timestamp": 1590886565414,
     "user": {
      "displayName": "Imam Hanafi Sistem Informasi",
      "photoUrl": "",
      "userId": "07450488865621521207"
     },
     "user_tz": -420
    },
    "id": "92j-IQ7dOnkZ",
    "outputId": "cddb99e6-fc1d-45e2-8d8b-7217d52b756c"
   },
   "outputs": [
    {
     "data": {
      "image/png": "[encoded data removed]",
      "text/plain": [
       "<PIL.Image.Image image mode=RGB size=1687x1687 at 0x7F4610288910>"
      ]
     },
     "execution_count": 40,
     "metadata": {},
     "output_type": "execute_result"
    }
   ],
   "source": [
    "Image.fromarray(mask,\"RGB\")"
   ]
  },
  {
   "cell_type": "code",
   "execution_count": 41,
   "metadata": {
    "colab": {
     "base_uri": "https://localhost:8080/",
     "height": 378
    },
    "colab_type": "code",
    "executionInfo": {
     "elapsed": 8928,
     "status": "ok",
     "timestamp": 1590886590698,
     "user": {
      "displayName": "Imam Hanafi Sistem Informasi",
      "photoUrl": "",
      "userId": "07450488865621521207"
     },
     "user_tz": -420
    },
    "id": "QT9IrdOeOoqy",
    "outputId": "38d4d546-8b66-4b19-ae95-3c4e30fb0fb0"
   },
   "outputs": [
    {
     "data": {
      "image/png": "[encoded data removed]",
      "text/plain": [
       "<Figure size 504x432 with 1 Axes>"
      ]
     },
     "metadata": {
      "needs_background": "light"
     },
     "output_type": "display_data"
    }
   ],
   "source": [
    "wordcloud = WordCloud(width=600, height=500, random_state=1, max_words=num_words, \n",
    "                          min_font_size=10,  max_font_size=140,\n",
    "                          background_color='white',stopwords=set(STOPWORDS),mask = mask)\n",
    "wordcloud.generate(str(set(df['text_nlp'][df['sentiment'] == 'positive'])))\n",
    "    # declare our figure  \n",
    "image_colors = ImageColorGenerator(color)\n",
    "plt.figure(figsize=(7,6))\n",
    "# plt.title(\"Word Clouds with Positive Polarity\", fontsize=20,color='#DE2929')\n",
    "plt.title(\"Word Clouds with Positive Polarity\", fontsize=20,color='#0000ff')\n",
    "plt.imshow(wordcloud, interpolation='bilinear')\n",
    "plt.imshow(wordcloud.recolor(color_func=image_colors), interpolation='None')\n",
    "plt.axis('off')\n",
    "plt.show()"
   ]
  },
  {
   "cell_type": "code",
   "execution_count": 42,
   "metadata": {
    "colab": {
     "base_uri": "https://localhost:8080/",
     "height": 35
    },
    "colab_type": "code",
    "executionInfo": {
     "elapsed": 1456,
     "status": "ok",
     "timestamp": 1590886602288,
     "user": {
      "displayName": "Imam Hanafi Sistem Informasi",
      "photoUrl": "",
      "userId": "07450488865621521207"
     },
     "user_tz": -420
    },
    "id": "WnjE_0p-OwnN",
    "outputId": "fe9e38a3-aea8-4462-f4cb-6c9d2665a7e8"
   },
   "outputs": [
    {
     "data": {
      "text/plain": [
       "<wordcloud.wordcloud.WordCloud at 0x7f4610278b50>"
      ]
     },
     "execution_count": 42,
     "metadata": {},
     "output_type": "execute_result"
    }
   ],
   "source": [
    "wordcloud.to_file('positive_detail.png')"
   ]
  },
  {
   "cell_type": "code",
   "execution_count": 43,
   "metadata": {
    "colab": {
     "base_uri": "https://localhost:8080/",
     "height": 378
    },
    "colab_type": "code",
    "executionInfo": {
     "elapsed": 5324,
     "status": "ok",
     "timestamp": 1590886619647,
     "user": {
      "displayName": "Imam Hanafi Sistem Informasi",
      "photoUrl": "",
      "userId": "07450488865621521207"
     },
     "user_tz": -420
    },
    "id": "j7Mj4-8qOxyx",
    "outputId": "0b4c978c-94ce-4c26-db7f-44ae001e2db0"
   },
   "outputs": [
    {
     "data": {
      "image/png": "[encoded data removed]",
      "text/plain": [
       "<Figure size 504x432 with 1 Axes>"
      ]
     },
     "metadata": {
      "needs_background": "light"
     },
     "output_type": "display_data"
    }
   ],
   "source": [
    "wordcloud = WordCloud(width=600, height=500, random_state=1, max_words=num_words, \n",
    "                          min_font_size=10,  max_font_size=140,\n",
    "                          background_color='white', stopwords=set(STOPWORDS),mask = mask)\n",
    "wordcloud.generate(str(set(df['text_nlp'][df['sentiment'] == 'negative'])))\n",
    "    # declare our figure  \n",
    "image_colors = ImageColorGenerator(red)\n",
    "plt.figure(figsize=(7,6))\n",
    "# plt.title(\"Word Clouds with negative Polarity\", fontsize=20,color='#DE2929')\n",
    "plt.title(\"Word Clouds with negative Polarity\", fontsize=20,color='#ff0000')\n",
    "plt.imshow(wordcloud, interpolation='bilinear')\n",
    "plt.imshow(wordcloud.recolor(color_func=image_colors), interpolation='None')\n",
    "plt.axis('off')\n",
    "plt.show()"
   ]
  },
  {
   "cell_type": "code",
   "execution_count": 44,
   "metadata": {
    "colab": {
     "base_uri": "https://localhost:8080/",
     "height": 35
    },
    "colab_type": "code",
    "executionInfo": {
     "elapsed": 1057,
     "status": "ok",
     "timestamp": 1590886631651,
     "user": {
      "displayName": "Imam Hanafi Sistem Informasi",
      "photoUrl": "",
      "userId": "07450488865621521207"
     },
     "user_tz": -420
    },
    "id": "ncPZHer1O34o",
    "outputId": "6b9d7fdf-61a6-43f9-b953-2eea8e949d98"
   },
   "outputs": [
    {
     "data": {
      "text/plain": [
       "<wordcloud.wordcloud.WordCloud at 0x7f46101b5550>"
      ]
     },
     "execution_count": 44,
     "metadata": {},
     "output_type": "execute_result"
    }
   ],
   "source": [
    "wordcloud.to_file('negative_detail.png')"
   ]
  },
  {
   "cell_type": "code",
   "execution_count": 45,
   "metadata": {
    "colab": {},
    "colab_type": "code",
    "id": "4_Pu-oN6PPiy"
   },
   "outputs": [],
   "source": [
    "add_stopwords = ['yang', 'yg', 'untuk', 'pada', 'ke', 'para', 'namun', 'menurut', 'antara', 'dia', 'dua', 'ia', 'seperti', 'jika', 'jika', 'sehingga', 'kembali', 'dan', 'tidak', 'ini', 'karena', 'kepada', 'oleh', 'saat', 'harus', 'sementara', 'setelah', 'belum', 'kami', 'sekitar', 'bagi', 'serta', 'di', 'dari', 'telah', 'sebagai', 'masih', 'hal', 'ketika', 'adalah', 'itu', 'dalam', 'bisa', 'bahwa', 'atau', 'hanya', 'kita', 'dengan', 'akan', 'juga', 'ada', 'mereka', 'sudah', 'saya', 'terhadap', 'secara', 'agar', 'lain', 'anda', 'begitu', 'mengapa', 'kenapa', 'yaitu', 'yakni', 'daripada', 'itulah', 'lagi', 'maka', 'tentang', 'demi', 'dimana', 'kemana', 'pula', 'sambil', 'sebelum', 'sesudah', 'supaya', 'guna', 'kah', 'pun', 'sampai', 'sedangkan', 'selagi', 'sementara', 'tetapi', 'apakah', 'kecuali', 'sebab', 'selain', 'seolah', 'seraya', 'seterusnya', 'tanpa', 'agak', 'boleh', 'dapat', 'dsb', 'dst', 'dll', 'dahulu', 'dulunya', 'anu', 'demikian', 'tapi', 'ingin', 'juga', 'nggak', 'mari', 'nanti', 'melainkan', 'oh', 'ok', 'seharusnya', 'sebetulnya', 'setiap', 'setidaknya', 'sesuatu', 'pasti', 'saja', 'toh', 'ya', 'walau', 'tolong', 'tentu', 'amat', 'apalagi', 'bagaimanapun']\n",
    "\n",
    "# Add meaningless words into stopwords\n",
    "for i in range(len(add_stopwords)):\n",
    "    STOPWORDS.add(add_stopwords[i])"
   ]
  },
  {
   "cell_type": "code",
   "execution_count": 46,
   "metadata": {
    "colab": {},
    "colab_type": "code",
    "id": "wakIQ_NTO-ta"
   },
   "outputs": [],
   "source": [
    "# tokenize each sentence into a list of words, removing punctuations\n",
    "def sent_to_words(sentences):\n",
    "    for sentence in sentences:\n",
    "        yield(gensim.utils.simple_preprocess(str(sentence), deacc=True))  # deacc=True removes punctuations\n",
    "\n",
    "data_words = list(sent_to_words(df['text_nlp']))\n",
    "\n",
    "# Remove Stop and common Words\n",
    "stopwords = nltk.corpus.stopwords.words('indonesian')\n",
    "newStopWords =  ['yang', 'untuk', 'pada', 'ke', 'para', 'namun', 'menurut', 'antara', 'dia', 'dua', 'ia', 'seperti', 'jika', 'jika', 'sehingga', 'kembali', 'dan', 'tidak', 'ini', 'karena', 'kepada', 'oleh', 'saat', 'harus', 'sementara', 'setelah', 'belum', 'kami', 'sekitar', 'bagi', 'serta', 'di', 'dari', 'telah', 'sebagai', 'masih', 'hal', 'ketika', 'adalah', 'itu', 'dalam', 'bisa', 'bahwa', 'atau', 'hanya', 'kita', 'dengan', 'akan', 'juga', 'ada', 'mereka', 'sudah', 'saya', 'terhadap', 'secara', 'agar', 'lain', 'anda', 'begitu', 'mengapa', 'kenapa', 'yaitu', 'yakni', 'daripada', 'itulah', 'lagi', 'maka', 'tentang', 'demi', 'dimana', 'kemana', 'pula', 'sambil', 'sebelum', 'sesudah', 'supaya', 'guna', 'kah', 'pun', 'sampai', 'sedangkan', 'selagi', 'sementara', 'tetapi', 'apakah', 'kecuali', 'sebab', 'selain', 'seolah', 'seraya', 'seterusnya', 'tanpa', 'agak', 'boleh', 'dapat', 'dsb', 'dst', 'dll', 'dahulu', 'dulunya', 'anu', 'demikian', 'tapi', 'ingin', 'juga', 'nggak', 'mari', 'nanti', 'melainkan', 'oh', 'ok', 'seharusnya', 'sebetulnya', 'setiap', 'setidaknya', 'sesuatu', 'pasti', 'saja', 'toh', 'ya', 'walau', 'tolong', 'tentu', 'amat', 'apalagi', 'bagaimanapun']\n",
    "stopwords.extend(newStopWords)\n",
    "\n",
    "data_words = [[word for word in doc if word not in stopwords] for doc in data_words]"
   ]
  },
  {
   "cell_type": "code",
   "execution_count": 47,
   "metadata": {
    "colab": {},
    "colab_type": "code",
    "id": "zye0vIcXPiWr"
   },
   "outputs": [],
   "source": [
    "# restrict words to only noun, adjective, verb and adverb\n",
    "def lemmatization(texts, allowed_postags=['NOUN', 'ADJ', 'VERB', 'ADV']):\n",
    "    \"\"\"https://spacy.io/api/annotation\"\"\"\n",
    "    texts_out = []\n",
    "    for sent in texts:\n",
    "        doc = nlp(\" \".join(sent)) \n",
    "        texts_out.append([token.lemma_ for token in doc if token.pos_ in allowed_postags])\n",
    "    return texts_out\n",
    "\n",
    "# Initialize spacy 'en' model, keeping only tagger component (for efficiency)\n",
    "\n",
    "# nlp = spacy.load('en_core_web_sm', disable=['parser', 'ner'])\n",
    "\n",
    "import en_core_web_sm\n",
    "nlp = en_core_web_sm.load()\n",
    "\n",
    "# Do lemmatization keeping only noun, adj, vb, adv\n",
    "data_lemmatized = lemmatization(data_words, allowed_postags=['NOUN', 'ADJ', 'VERB', 'ADV'])"
   ]
  },
  {
   "cell_type": "code",
   "execution_count": 48,
   "metadata": {
    "colab": {},
    "colab_type": "code",
    "id": "xMY4YsgoPkMt"
   },
   "outputs": [],
   "source": [
    "# Create Dictionary\n",
    "id2word = corpora.Dictionary(data_lemmatized)\n",
    "# Create Corpus\n",
    "texts = data_lemmatized\n",
    "# Term Document Frequency\n",
    "corpus = [id2word.doc2bow(text) for text in texts]"
   ]
  },
  {
   "cell_type": "code",
   "execution_count": 49,
   "metadata": {
    "colab": {
     "base_uri": "https://localhost:8080/",
     "height": 1000
    },
    "colab_type": "code",
    "executionInfo": {
     "elapsed": 1190,
     "status": "ok",
     "timestamp": 1590886838386,
     "user": {
      "displayName": "Imam Hanafi Sistem Informasi",
      "photoUrl": "",
      "userId": "07450488865621521207"
     },
     "user_tz": -420
    },
    "id": "TxQV6W7gPnpz",
    "outputId": "ace67659-2144-4e56-89d5-73d0076a3150"
   },
   "outputs": [
    {
     "data": {
      "text/plain": [
       "[['perekonomian', 'new', 'normal', 'beringin', 'news'],\n",
       " ['point'],\n",
       " [],\n",
       " ['mend'],\n",
       " ['mend'],\n",
       " ['mend'],\n",
       " ['volume'],\n",
       " [],\n",
       " [],\n",
       " [],\n",
       " ['kementerian', 'psbb', 'protokol'],\n",
       " [],\n",
       " [],\n",
       " ['mend'],\n",
       " ['mend'],\n",
       " ['mend'],\n",
       " [],\n",
       " ['mend'],\n",
       " [],\n",
       " [],\n",
       " [],\n",
       " [],\n",
       " [],\n",
       " [],\n",
       " [],\n",
       " [],\n",
       " [],\n",
       " [],\n",
       " [],\n",
       " ['cisaat', 'sukabumi'],\n",
       " [],\n",
       " [],\n",
       " [],\n",
       " [],\n",
       " [],\n",
       " ['family', 'would'],\n",
       " [],\n",
       " ['normal'],\n",
       " ['tanjung', 'batu'],\n",
       " ['goal'],\n",
       " [],\n",
       " ['hhh'],\n",
       " [],\n",
       " ['paringi'],\n",
       " [],\n",
       " ['hadit'],\n",
       " ['total', 'disuruh', 'putar', 'jabodetabek'],\n",
       " ['new', 'normal', 'back', 'normal', 'new', 'komplek'],\n",
       " ['sekjen'],\n",
       " [],\n",
       " ['loh', 'source'],\n",
       " ['photo', 'studio'],\n",
       " [],\n",
       " [],\n",
       " [],\n",
       " ['new', 'normal'],\n",
       " ['pantai', 'ditutup'],\n",
       " ['sosial', 'psbb'],\n",
       " [],\n",
       " [],\n",
       " [],\n",
       " ['give', 'would', 'jam', 'sore'],\n",
       " ['dalan'],\n",
       " [],\n",
       " ['story'],\n",
       " ['ketua', 'area', 'non'],\n",
       " [],\n",
       " [],\n",
       " [],\n",
       " [],\n",
       " [],\n",
       " [],\n",
       " ['unfriend'],\n",
       " [],\n",
       " ['contact', 'wa'],\n",
       " [],\n",
       " ['setor'],\n",
       " [],\n",
       " [],\n",
       " [],\n",
       " [],\n",
       " [],\n",
       " ['physical', 'distancing', 'shaf', 'dirapatkan'],\n",
       " ['main', 'gak', 'rapid', 'test'],\n",
       " ['efektif'],\n",
       " [],\n",
       " [],\n",
       " [],\n",
       " [],\n",
       " [],\n",
       " ['nagih', 'peda', 'nikmat', 'link'],\n",
       " [],\n",
       " ['dina', 'polsek'],\n",
       " ['perekonomian'],\n",
       " [],\n",
       " [],\n",
       " [],\n",
       " ['raya'],\n",
       " [],\n",
       " ['anie'],\n",
       " ['banget'],\n",
       " ['engga'],\n",
       " ['stock'],\n",
       " [],\n",
       " [],\n",
       " ['main'],\n",
       " [],\n",
       " ['wa'],\n",
       " ['event'],\n",
       " ['whatsapp'],\n",
       " [],\n",
       " [],\n",
       " ['bandung', 'listener'],\n",
       " ['rapid'],\n",
       " [],\n",
       " ['dipake', 'disimpen'],\n",
       " [],\n",
       " [],\n",
       " ['no', 'matter', 'happen', 'dirumah', 'didalam'],\n",
       " ['emildardak'],\n",
       " [],\n",
       " [],\n",
       " ['stay', 'home', 'tetep', 'olahraga', 'guy'],\n",
       " ['sale'],\n",
       " [],\n",
       " [],\n",
       " ['follow'],\n",
       " ['sosial'],\n",
       " [],\n",
       " [],\n",
       " ['cicaheum', 'petugas'],\n",
       " ['pintu'],\n",
       " [],\n",
       " [],\n",
       " [],\n",
       " [],\n",
       " [],\n",
       " [],\n",
       " [],\n",
       " ['sosial'],\n",
       " ['spesial', 'unit', 'urban', 'height', 'urban', 'height', 'residence'],\n",
       " [],\n",
       " ['coman', 'kayak', 'gini', 'psbb'],\n",
       " [],\n",
       " ['punten'],\n",
       " ['branta', 'cihapit', 'bandung'],\n",
       " ['sosial', 'ekonomi'],\n",
       " ['dikaji'],\n",
       " [],\n",
       " ['warkop', 'warkop'],\n",
       " [],\n",
       " [],\n",
       " [],\n",
       " [],\n",
       " ['update'],\n",
       " [],\n",
       " [],\n",
       " ['open', 'stay', 'safe', 'stay', 'home'],\n",
       " ['open', 'stay', 'safe', 'stay', 'home'],\n",
       " [],\n",
       " ['physical', 'distancing'],\n",
       " [],\n",
       " [],\n",
       " [],\n",
       " ['whatsapp'],\n",
       " [],\n",
       " [],\n",
       " ['ampe'],\n",
       " [],\n",
       " ['contact', 'wa'],\n",
       " [],\n",
       " ['would'],\n",
       " ['happiness', 'seafood'],\n",
       " [],\n",
       " ['ptmbhn', 'jokowi'],\n",
       " ['full', 'video', 'watch'],\n",
       " ['exit', 'strategy'],\n",
       " ['contact', 'wa'],\n",
       " [],\n",
       " [],\n",
       " [],\n",
       " [],\n",
       " [],\n",
       " [],\n",
       " ['listener', 'sok', 'share', 'kasih'],\n",
       " ['salurkan'],\n",
       " [],\n",
       " [],\n",
       " [],\n",
       " [],\n",
       " ['netijen', 'magic'],\n",
       " ['boro', 'petir', 'sawangan', 'depok'],\n",
       " ['exit', 'strategy', 'jokowi'],\n",
       " ['contact', 'wa'],\n",
       " ['udah', 'puse', 'video', 'layak', 'repost'],\n",
       " ['contact', 'wa'],\n",
       " ['shoot'],\n",
       " ['however'],\n",
       " ['diseluruh', 'normal'],\n",
       " [],\n",
       " [],\n",
       " [],\n",
       " ['anie'],\n",
       " ['isolasi'],\n",
       " [],\n",
       " [],\n",
       " ['hujan', 'photo', 'studio'],\n",
       " ['berbagi', 'share'],\n",
       " [],\n",
       " [],\n",
       " [],\n",
       " ['ngapunten', 'saget', 'griyo'],\n",
       " [],\n",
       " [],\n",
       " [],\n",
       " ['take', 'away', 'order', 'online', 'jam'],\n",
       " [],\n",
       " ['urgent', 'teue'],\n",
       " ['pelaksanaan'],\n",
       " [],\n",
       " ['main', 'main', 'psbb'],\n",
       " [],\n",
       " [],\n",
       " ['anie', 'open', 'house'],\n",
       " ['sell'],\n",
       " [],\n",
       " [],\n",
       " [],\n",
       " [],\n",
       " [],\n",
       " [],\n",
       " [],\n",
       " ['diam', 'cheer'],\n",
       " ['netijen', 'magic'],\n",
       " [],\n",
       " ['shoot'],\n",
       " [],\n",
       " [],\n",
       " [],\n",
       " ['memprose'],\n",
       " [],\n",
       " [],\n",
       " ['wib'],\n",
       " ['sektor'],\n",
       " [],\n",
       " [],\n",
       " [],\n",
       " ['ie', 'wa'],\n",
       " [],\n",
       " [],\n",
       " [],\n",
       " [],\n",
       " ['happy', 'birthday', 'papa', 'video', 'call', 'gresik'],\n",
       " ['sukabumi'],\n",
       " ['normal'],\n",
       " ['lebaran'],\n",
       " [],\n",
       " ['masker', 'pelaksanaan', 'dikenakan', 'sanksi'],\n",
       " [],\n",
       " [],\n",
       " [],\n",
       " [],\n",
       " [],\n",
       " [],\n",
       " [],\n",
       " [],\n",
       " [],\n",
       " [],\n",
       " [],\n",
       " ['sosial', 'pagi'],\n",
       " [],\n",
       " [],\n",
       " [],\n",
       " [],\n",
       " ['pembukaan'],\n",
       " ['beli'],\n",
       " [],\n",
       " ['indah', 'banget', 'pemandangannya', 'real'],\n",
       " ['perekonomian'],\n",
       " ['kabipaten'],\n",
       " [],\n",
       " ['sektor'],\n",
       " [],\n",
       " [],\n",
       " [],\n",
       " [],\n",
       " ['masker', 'beb'],\n",
       " ['love'],\n",
       " ['bind', 'depok'],\n",
       " [],\n",
       " [],\n",
       " [],\n",
       " [],\n",
       " [],\n",
       " ['strategi', 'new', 'normal'],\n",
       " ['limbo', 'how', 'low', 'go', 'ditentukan', 'exit', 'strategy', 'gugus'],\n",
       " [],\n",
       " [],\n",
       " [],\n",
       " [],\n",
       " ['perayaan'],\n",
       " [],\n",
       " [],\n",
       " [],\n",
       " ['subuh'],\n",
       " ['akse'],\n",
       " [],\n",
       " ['tua'],\n",
       " [],\n",
       " ['gede', 'dirumahin', 'tanggung'],\n",
       " ['would'],\n",
       " ['berdoa', 'normal'],\n",
       " ['comment'],\n",
       " ['sda'],\n",
       " [],\n",
       " ['kejadian'],\n",
       " [],\n",
       " [],\n",
       " ['bukalapak', 'achmad', 'arif', 'whatsapp', 'sms', 'call'],\n",
       " ['duit', 'mall'],\n",
       " [],\n",
       " ['berpikir'],\n",
       " [],\n",
       " [],\n",
       " ['support'],\n",
       " [],\n",
       " [],\n",
       " ['pelaksanaan', 'check', 'point', 'masker'],\n",
       " ['anje'],\n",
       " [],\n",
       " ['contact', 'wa'],\n",
       " ['sore'],\n",
       " ['new', 'normal'],\n",
       " [],\n",
       " ['mend'],\n",
       " ['public', 'area'],\n",
       " [],\n",
       " ['first', 'thing'],\n",
       " ['point'],\n",
       " ['masker', 'mudik'],\n",
       " ['tangselupdate'],\n",
       " ['sore'],\n",
       " ['live', 'stream'],\n",
       " ['dampak', 'ekonomi', 'kesehatan', 'mental'],\n",
       " [],\n",
       " ['epidemiologi'],\n",
       " ['niat', 'single', 'terbaru', 'dirili'],\n",
       " [],\n",
       " ['flu'],\n",
       " ['eruh', 'kondisi', 'asli'],\n",
       " [],\n",
       " [],\n",
       " [],\n",
       " [],\n",
       " [],\n",
       " [],\n",
       " [],\n",
       " [],\n",
       " [],\n",
       " [],\n",
       " ['petugas'],\n",
       " [],\n",
       " ['suruh'],\n",
       " ['teriakan', 'takkan', 'terdengar'],\n",
       " [],\n",
       " [],\n",
       " [],\n",
       " ['go', 'ride', 'go', 'mahmud'],\n",
       " ['cilince'],\n",
       " ['ie'],\n",
       " ['tetep'],\n",
       " ['social', 'distancing'],\n",
       " [],\n",
       " ['batu', 'permata'],\n",
       " ['suruh'],\n",
       " [],\n",
       " [],\n",
       " ['order', 'omistore', 'bukalapak', 'achmad'],\n",
       " [],\n",
       " ['ekonomi'],\n",
       " ['check'],\n",
       " [],\n",
       " ['whatsapp'],\n",
       " [],\n",
       " [],\n",
       " [],\n",
       " [],\n",
       " [],\n",
       " [],\n",
       " [],\n",
       " [],\n",
       " [],\n",
       " [],\n",
       " ['sehat', 'sedanten', 'repost', 'beye_snap'],\n",
       " ['disebar'],\n",
       " ['beli'],\n",
       " [],\n",
       " ['rasyid', 'tolok'],\n",
       " ['twitter', 'medium', 'mainstream'],\n",
       " ['disaat'],\n",
       " [],\n",
       " ['akhlak'],\n",
       " ['plan'],\n",
       " ['more'],\n",
       " ['come'],\n",
       " [],\n",
       " ['netijen', 'magic'],\n",
       " ['menjual', 'madu', 'randu', 'dapatkan', 'produk'],\n",
       " ['membimbe', 'prose'],\n",
       " ['efek'],\n",
       " ['kejar', 'travel', 'police', 'car'],\n",
       " [],\n",
       " [],\n",
       " [],\n",
       " [],\n",
       " ['pari'],\n",
       " ['anie', 'menentukan'],\n",
       " [],\n",
       " [],\n",
       " [],\n",
       " [],\n",
       " [],\n",
       " ['main'],\n",
       " [],\n",
       " [],\n",
       " [],\n",
       " [],\n",
       " [],\n",
       " ['contact', 'wa'],\n",
       " [],\n",
       " ['photo', 'product', 'prewedding'],\n",
       " [],\n",
       " ['single', 'levithefly'],\n",
       " ['sajak', 'teman', 'gaol'],\n",
       " ['belitung'],\n",
       " [],\n",
       " [],\n",
       " ['diterapkan',\n",
       "  'awak',\n",
       "  'bus',\n",
       "  'penumpangnya',\n",
       "  'bus',\n",
       "  'stiker',\n",
       "  'sukse',\n",
       "  'pemudik'],\n",
       " [],\n",
       " [],\n",
       " [],\n",
       " [],\n",
       " [],\n",
       " ['whatsapp'],\n",
       " ['pandemi', 'amiin'],\n",
       " [],\n",
       " ['banget'],\n",
       " ['wa'],\n",
       " ['family', 'always', 'family', 'happy'],\n",
       " ['contact', 'wa'],\n",
       " [],\n",
       " ['wa'],\n",
       " ['unknown', 'cbd', 'ciledug'],\n",
       " [],\n",
       " [],\n",
       " ['free', 'ongkir', 'wa'],\n",
       " [],\n",
       " ['disaat', 'pandemi'],\n",
       " [],\n",
       " [],\n",
       " [],\n",
       " ['real'],\n",
       " ['sasak'],\n",
       " [],\n",
       " [],\n",
       " [],\n",
       " ['feature', 'online', 'mix'],\n",
       " ['slide', 'scene', 'dki'],\n",
       " [],\n",
       " ['futsal'],\n",
       " [],\n",
       " [],\n",
       " ['waisak'],\n",
       " [],\n",
       " [],\n",
       " ['shoot'],\n",
       " [],\n",
       " ['contact', 'wa'],\n",
       " ['susah'],\n",
       " [],\n",
       " ['pelaksanaan', 'inkonsistensi', 'lambatnya'],\n",
       " ['pertikaian'],\n",
       " ['slogan'],\n",
       " ['detikfinance'],\n",
       " ['medium', 'online', 'awak', 'medium', 'medium'],\n",
       " ['anie', 'siapkan', 'protokol'],\n",
       " ['pagi'],\n",
       " [],\n",
       " [],\n",
       " ['nagih', 'peda'],\n",
       " [],\n",
       " [],\n",
       " [],\n",
       " [],\n",
       " [],\n",
       " ['penjual'],\n",
       " ['rasyid'],\n",
       " [],\n",
       " [],\n",
       " [],\n",
       " ['dilindungi'],\n",
       " ['ginian', 'teman', 'follow', 'buatin'],\n",
       " [],\n",
       " [],\n",
       " [],\n",
       " ['maen', 'grill'],\n",
       " [],\n",
       " [],\n",
       " ['waterbase', 'direct', 'achmad', 'arif'],\n",
       " ['angkot', 'msh', 'normal'],\n",
       " [],\n",
       " [],\n",
       " ['nongski'],\n",
       " [],\n",
       " [],\n",
       " [],\n",
       " [],\n",
       " [],\n",
       " [],\n",
       " [],\n",
       " [],\n",
       " [],\n",
       " [],\n",
       " [],\n",
       " [],\n",
       " [],\n",
       " [],\n",
       " ['psbb'],\n",
       " [],\n",
       " ['nagih'],\n",
       " [],\n",
       " [],\n",
       " ['anie', 'pantau'],\n",
       " ['sajak', 'kelile'],\n",
       " [],\n",
       " [],\n",
       " [],\n",
       " [],\n",
       " [],\n",
       " ['sale'],\n",
       " [],\n",
       " ['polre'],\n",
       " [],\n",
       " ['menggelar', 'protokol']]"
      ]
     },
     "execution_count": 49,
     "metadata": {},
     "output_type": "execute_result"
    }
   ],
   "source": [
    "texts"
   ]
  },
  {
   "cell_type": "code",
   "execution_count": 50,
   "metadata": {
    "colab": {},
    "colab_type": "code",
    "id": "ixVyOVpOPvca"
   },
   "outputs": [],
   "source": [
    "start=24\n",
    "limit=32\n",
    "step=2\n",
    "random = 155"
   ]
  },
  {
   "cell_type": "code",
   "execution_count": 51,
   "metadata": {
    "colab": {},
    "colab_type": "code",
    "id": "ysQQkrvEPwxR"
   },
   "outputs": [],
   "source": [
    "# Write the function to compute coherence values for each model. \n",
    "# This could help us choose how many topics should be included into our model.\n",
    "\n",
    "def compute_coherence_values(dictionary, corpus, texts, limit, start=1, step=1):\n",
    "    \"\"\"\n",
    "    Compute c_v coherence for various number of topics\n",
    "\n",
    "    Parameters:\n",
    "    ----------\n",
    "    dictionary : Gensim dictionary\n",
    "    corpus : Gensim corpus\n",
    "    texts : List of input texts\n",
    "    limit : Max num of topics\n",
    "\n",
    "    Returns:\n",
    "    -------\n",
    "    model_list : List of LDA topic models\n",
    "    coherence_values : Coherence values corresponding to the LDA model with respective number of topics\n",
    "    \"\"\"\n",
    "    coherence_values = []\n",
    "    model_list = []\n",
    "    for num_topics in range(start, limit, step):\n",
    "        model = gensim.models.wrappers.LdaMallet(mallet_path, corpus=corpus, num_topics=num_topics, id2word=id2word, random_seed=random)\n",
    "        model_list.append(model)\n",
    "        coherencemodel = CoherenceModel(model=model, texts=texts, dictionary=dictionary, coherence='c_v')\n",
    "        coherence_values.append(coherencemodel.get_coherence())\n",
    "\n",
    "    return model_list, coherence_values"
   ]
  },
  {
   "cell_type": "code",
   "execution_count": 52,
   "metadata": {
    "colab": {
     "base_uri": "https://localhost:8080/",
     "height": 354
    },
    "colab_type": "code",
    "executionInfo": {
     "elapsed": 3201,
     "status": "error",
     "timestamp": 1590887739502,
     "user": {
      "displayName": "Imam Hanafi Sistem Informasi",
      "photoUrl": "",
      "userId": "07450488865621521207"
     },
     "user_tz": -420
    },
    "id": "5mbFYwq-P0JE",
    "outputId": "ba9935c9-3749-46c3-81f1-d16114106a50"
   },
   "outputs": [],
   "source": [
    "# compute coherence values for each model\n",
    "mallet_path = 'mallet-2.0.8/mallet-2.0.8/bin/mallet' # update this path\n",
    "model_list, coherence_values = compute_coherence_values(dictionary=id2word, corpus=corpus, texts=data_lemmatized, start=start, limit=limit, step=step)"
   ]
  },
  {
   "cell_type": "code",
   "execution_count": 53,
   "metadata": {
    "colab": {
     "base_uri": "https://localhost:8080/",
     "height": 208
    },
    "colab_type": "code",
    "executionInfo": {
     "elapsed": 1099,
     "status": "error",
     "timestamp": 1590887978505,
     "user": {
      "displayName": "Imam Hanafi Sistem Informasi",
      "photoUrl": "",
      "userId": "07450488865621521207"
     },
     "user_tz": -420
    },
    "id": "k2QiS8alTRUA",
    "outputId": "4dda98cb-28e9-4347-f0b5-5efd86ad6bf0"
   },
   "outputs": [
    {
     "data": {
      "image/png": "[encoded data removed]",
      "text/plain": [
       "<Figure size 432x288 with 1 Axes>"
      ]
     },
     "metadata": {
      "needs_background": "light"
     },
     "output_type": "display_data"
    }
   ],
   "source": [
    "# plot the coherence values when number of topics equals to different numbers\n",
    "x = range(start, limit, step)\n",
    "plt.plot(x, coherence_values)\n",
    "plt.xlabel(\"Num Topics\")\n",
    "plt.ylabel(\"Coherence score\")\n",
    "plt.legend((\"coherence_values\"), loc='best')\n",
    "plt.show()"
   ]
  },
  {
   "cell_type": "code",
   "execution_count": 54,
   "metadata": {},
   "outputs": [
    {
     "name": "stdout",
     "output_type": "stream",
     "text": [
      "Num Topics = 24  has Coherence Value of 0.7916\n",
      "Num Topics = 26  has Coherence Value of 0.7834\n",
      "Num Topics = 28  has Coherence Value of 0.7914\n",
      "Num Topics = 30  has Coherence Value of 0.78\n"
     ]
    }
   ],
   "source": [
    "# plot the coherence values when number of topics equals to different numbers\n",
    "for m, cv in zip(x, coherence_values):\n",
    "    print(\"Num Topics =\", m, \" has Coherence Value of\", round(cv, 4))"
   ]
  },
  {
   "cell_type": "code",
   "execution_count": 55,
   "metadata": {},
   "outputs": [],
   "source": [
    "mallet_path = 'mallet-2.0.8/mallet-2.0.8/bin/mallet' # update this path\n",
    "ldamallet = gensim.models.wrappers.LdaMallet(mallet_path, \n",
    "                                             corpus=corpus,\n",
    "                                             num_topics=30, \n",
    "                                             id2word=id2word,\n",
    "                                             random_seed = 155)"
   ]
  },
  {
   "cell_type": "code",
   "execution_count": 56,
   "metadata": {},
   "outputs": [
    {
     "name": "stdout",
     "output_type": "stream",
     "text": [
      "[(0,\n",
      "  '0.263*\"main\" + 0.158*\"stay\" + 0.105*\"family\" + 0.053*\"mudik\" + 0.053*\"udah\" '\n",
      "  '+ 0.053*\"unfriend\" + 0.053*\"tangselupdate\" + 0.053*\"berdoa\"'),\n",
      " (1,\n",
      "  '0.167*\"magic\" + 0.167*\"pandemi\" + 0.083*\"produk\" + 0.083*\"dina\" + '\n",
      "  '0.083*\"contact\" + 0.083*\"teman\" + 0.083*\"puse\" + 0.083*\"duit\"'),\n",
      " (3,\n",
      "  '0.300*\"contact\" + 0.150*\"sore\" + 0.100*\"warkop\" + 0.050*\"ride\" + '\n",
      "  '0.050*\"family\" + 0.050*\"spesial\" + 0.050*\"ditentukan\" + 0.050*\"back\"'),\n",
      " (6,\n",
      "  '0.357*\"whatsapp\" + 0.071*\"magic\" + 0.071*\"depok\" + 0.071*\"ngapunten\" + '\n",
      "  '0.071*\"physical\" + 0.071*\"disaat\" + 0.071*\"epidemiologi\" + 0.071*\"masker\"'),\n",
      " (7,\n",
      "  '0.167*\"stay\" + 0.083*\"banget\" + 0.083*\"anje\" + 0.083*\"live\" + '\n",
      "  '0.083*\"diseluruh\" + 0.083*\"levithefly\" + 0.083*\"rasyid\" + 0.083*\"didalam\"'),\n",
      " (10,\n",
      "  '0.059*\"inkonsistensi\" + 0.059*\"ampe\" + 0.059*\"plan\" + 0.059*\"prewedding\" + '\n",
      "  '0.059*\"real\" + 0.059*\"photo\" + 0.059*\"coman\" + 0.059*\"futsal\"'),\n",
      " (12,\n",
      "  '0.143*\"msh\" + 0.143*\"boro\" + 0.143*\"disimpen\" + 0.143*\"teue\" + '\n",
      "  '0.143*\"watch\" + 0.143*\"nagih\" + 0.143*\"contact\" + 0.000*\"dampak\"'),\n",
      " (13,\n",
      "  '0.176*\"distancing\" + 0.059*\"nikmat\" + 0.059*\"police\" + 0.059*\"lebaran\" + '\n",
      "  '0.059*\"product\" + 0.059*\"dampak\" + 0.059*\"urgent\" + 0.059*\"branta\"'),\n",
      " (14,\n",
      "  '0.118*\"awak\" + 0.118*\"nagih\" + 0.059*\"tanggung\" + 0.059*\"kabipaten\" + '\n",
      "  '0.059*\"kejadian\" + 0.059*\"pantai\" + 0.059*\"studio\" + 0.059*\"real\"'),\n",
      " (16,\n",
      "  '0.286*\"medium\" + 0.143*\"rapid\" + 0.143*\"sajak\" + 0.071*\"direct\" + '\n",
      "  '0.071*\"strategi\" + 0.071*\"bandung\" + 0.071*\"hujan\" + 0.071*\"nongski\"'),\n",
      " (17,\n",
      "  '0.083*\"protokol\" + 0.083*\"full\" + 0.083*\"link\" + 0.083*\"photo\" + '\n",
      "  '0.083*\"efektif\" + 0.083*\"tanjung\" + 0.083*\"pemandangannya\" + 0.083*\"subuh\"'),\n",
      " (18,\n",
      "  '0.100*\"batu\" + 0.100*\"penumpangnya\" + 0.100*\"comment\" + 0.100*\"perayaan\" + '\n",
      "  '0.100*\"hadit\" + 0.100*\"hhh\" + 0.100*\"order\" + 0.100*\"contact\"'),\n",
      " (19,\n",
      "  '0.167*\"exit\" + 0.083*\"travel\" + 0.083*\"petugas\" + 0.083*\"story\" + '\n",
      "  '0.083*\"teman\" + 0.083*\"jabodetabek\" + 0.083*\"emildardak\" + 0.083*\"madu\"'),\n",
      " (20,\n",
      "  '0.167*\"check\" + 0.083*\"dalan\" + 0.083*\"loh\" + 0.083*\"achmad\" + '\n",
      "  '0.083*\"cisaat\" + 0.083*\"layak\" + 0.083*\"dirapatkan\" + 0.083*\"masker\"'),\n",
      " (21,\n",
      "  '0.125*\"volume\" + 0.125*\"sektor\" + 0.125*\"online\" + 0.125*\"dirumah\" + '\n",
      "  '0.125*\"jam\" + 0.125*\"kementerian\" + 0.125*\"teriakan\" + 0.125*\"home\"'),\n",
      " (22,\n",
      "  '0.231*\"shoot\" + 0.077*\"akhlak\" + 0.077*\"sukabumi\" + 0.077*\"total\" + '\n",
      "  '0.077*\"penjual\" + 0.077*\"give\" + 0.077*\"ginian\" + 0.077*\"dirili\"'),\n",
      " (24,\n",
      "  '0.154*\"achmad\" + 0.077*\"studio\" + 0.077*\"menjual\" + 0.077*\"bind\" + '\n",
      "  '0.077*\"single\" + 0.077*\"detikfinance\" + 0.077*\"waisak\" + 0.077*\"peda\"'),\n",
      " (26,\n",
      "  '0.167*\"pelaksanaan\" + 0.125*\"perekonomian\" + 0.125*\"point\" + '\n",
      "  '0.083*\"netijen\" + 0.083*\"height\" + 0.042*\"tetep\" + 0.042*\"akse\" + '\n",
      "  '0.042*\"mental\"'),\n",
      " (27,\n",
      "  '0.400*\"wa\" + 0.200*\"safe\" + 0.100*\"eruh\" + 0.100*\"strategy\" + 0.100*\"sasak\" '\n",
      "  '+ 0.100*\"matter\" + 0.000*\"kesehatan\" + 0.000*\"mental\"'),\n",
      " (29,\n",
      "  '0.316*\"anie\" + 0.053*\"menentukan\" + 0.053*\"dikaji\" + 0.053*\"share\" + '\n",
      "  '0.053*\"strategy\" + 0.053*\"online\" + 0.053*\"car\" + 0.053*\"listener\"')]\n"
     ]
    }
   ],
   "source": [
    "# Show Topics\n",
    "model_topics = ldamallet.show_topics(formatted=False)\n",
    "pprint(sorted(ldamallet.print_topics(num_words=8)))"
   ]
  },
  {
   "cell_type": "code",
   "execution_count": 57,
   "metadata": {},
   "outputs": [],
   "source": [
    "topics = pd.DataFrame(sorted(ldamallet.print_topics(num_words=10)))\n",
    "topics.columns = ['Topic_num','Key_words']\n",
    "topics.to_csv('30_topics_2.csv',index = False)"
   ]
  },
  {
   "cell_type": "code",
   "execution_count": 58,
   "metadata": {},
   "outputs": [
    {
     "name": "stdout",
     "output_type": "stream",
     "text": [
      "\n",
      "Coherence Score:  0.780004238546643\n"
     ]
    }
   ],
   "source": [
    "# Compute Coherence Score\n",
    "coherence_model_ldamallet = CoherenceModel(model=ldamallet, texts=data_lemmatized, dictionary=id2word, coherence='c_v')\n",
    "coherence_ldamallet = coherence_model_ldamallet.get_coherence()\n",
    "print('\\nCoherence Score: ', coherence_ldamallet)"
   ]
  },
  {
   "cell_type": "code",
   "execution_count": 64,
   "metadata": {},
   "outputs": [],
   "source": [
    "topic_names = ['family/mudik/depok', \n",
    "               'pandemi/social', \n",
    "               'contact/family/special', \n",
    "               'saget/punten', \n",
    "               'stay/didalam/area', \n",
    "               'single/happiness', \n",
    "               'seafood/kesehatan', \n",
    "               'kesehatan/dampak', \n",
    "               'nikmat/lebaran/dampak/product', \n",
    "               'kejadian/real/pertikaian/tanggung', \n",
    "               'twitter/repost/terbaru/love', \n",
    "               'normal/hujan/bandung', \n",
    "               'protokol/efektif/pemandangan', \n",
    "               'disuruh/masker/check', \n",
    "               'home/kesehatan/kementrian', \n",
    "               'niat/akhlak', \n",
    "               'maen/stream/wa', \n",
    "               'dampak/mental/kesehatan', \n",
    "               'home/area/order/ongkir', \n",
    "               'share/dikaji/online', \n",
    "               'berdoa/udah/salurkan', \n",
    "               'menggelar/spesial/sore/ride', \n",
    "               'dikarenakan/efek/psbb', \n",
    "               'live/anje/jam', \n",
    "               'sukabumi/siapkan/residence', \n",
    "               'check/dalan/polsek/masker', \n",
    "               'penjual/sukabumi/diam', \n",
    "               'low/banget/wa', \n",
    "               'dampak/mudik/safe', \n",
    "               'sale/online']\n",
    "# topic_names = ['cantik/senyum/cantik/manis', \n",
    "#                'topeng/wajah/pakai', \n",
    "#                'waktu/minggu/ingat/lalu', \n",
    "#                'teman/keluarga/bersyukur/tetangga', \n",
    "#                'pekerja/perawatan/kesehatan/risiko', \n",
    "#                'baca/akhir pekan/latihan/buku', \n",
    "#                'rumah/tinggal/tenang/terhubung', \n",
    "#                'sosial/menjauhkan/menyelamatkan/dokter', \n",
    "#                'cinta/doa/tangan/cuci', \n",
    "#                'kasus/kematian/status/ujian', \n",
    "#                'tonton/video/bagikan/youtube', \n",
    "#                'gratis/tempat/donasi', \n",
    "#                'menyebar/ penting/berita/tinggi', \n",
    "#                'tinggal/aman/rumah/sehat', \n",
    "#                'virus/besar / terjadi/hancurkan', \n",
    "#                'kerja/keras/rumah sakit/pasien/tempat tidur', \n",
    "#                'anak/virtual/kelas/sekolah', \n",
    "#                'karantina/isolasi', \n",
    "#                'komunitas/pandemi/perlindungan/pengingat', \n",
    "#                'baik/terasa/dunia/saat/foto', \n",
    "#                'malam ini/besok/malam', \n",
    "#                'orang/mati/sakit', \n",
    "#                'kata/pesan/gambar', \n",
    "#                'main/bahagia/musik/game', \n",
    "#                'tantangan/latihan/segar/udara', \n",
    "#                'makanan/makan/rumah/bersih', \n",
    "#                'luar biasa/makan malam/masak', \n",
    "#                'tampilkan/favori/film', \n",
    "#                'pesanan/panggilan/online/pengiriman', \n",
    "#                'tutup/bisnis/publik/taman']"
   ]
  },
  {
   "cell_type": "code",
   "execution_count": 65,
   "metadata": {},
   "outputs": [
    {
     "data": {
      "text/html": [
       "<div>\n",
       "<style scoped>\n",
       "    .dataframe tbody tr th:only-of-type {\n",
       "        vertical-align: middle;\n",
       "    }\n",
       "\n",
       "    .dataframe tbody tr th {\n",
       "        vertical-align: top;\n",
       "    }\n",
       "\n",
       "    .dataframe thead th {\n",
       "        text-align: right;\n",
       "    }\n",
       "</style>\n",
       "<table border=\"1\" class=\"dataframe\">\n",
       "  <thead>\n",
       "    <tr style=\"text-align: right;\">\n",
       "      <th></th>\n",
       "      <th>User</th>\n",
       "      <th>Text</th>\n",
       "      <th>Retweets</th>\n",
       "      <th>Favorites</th>\n",
       "      <th>HashTags</th>\n",
       "      <th>City</th>\n",
       "      <th>date</th>\n",
       "      <th>time</th>\n",
       "      <th>text_nlp</th>\n",
       "      <th>text_len</th>\n",
       "      <th>...</th>\n",
       "      <th>berdoa/udah/salurkan</th>\n",
       "      <th>menggelar/spesial/sore/ride</th>\n",
       "      <th>dikarenakan/efek/psbb</th>\n",
       "      <th>live/anje/jam</th>\n",
       "      <th>sukabumi/siapkan/residence</th>\n",
       "      <th>check/dalan/polsek/masker</th>\n",
       "      <th>penjual/sukabumi/diam</th>\n",
       "      <th>low/banget/wa</th>\n",
       "      <th>dampak/mudik/safe</th>\n",
       "      <th>sale/online</th>\n",
       "    </tr>\n",
       "  </thead>\n",
       "  <tbody>\n",
       "    <tr>\n",
       "      <td>0</td>\n",
       "      <td>golkar_empat</td>\n",
       "      <td>Pemerintah Siap Kembali Putar Roda Perekonomia...</td>\n",
       "      <td>0</td>\n",
       "      <td>0</td>\n",
       "      <td>#PSBB #NewNormal #indonesianewnormal #Indonesi...</td>\n",
       "      <td>Jakarta</td>\n",
       "      <td>2020-05-27</td>\n",
       "      <td>03-07-55</td>\n",
       "      <td>pemerintah putar roda perekonomian new normal ...</td>\n",
       "      <td>89</td>\n",
       "      <td>...</td>\n",
       "      <td>0.030864</td>\n",
       "      <td>0.030864</td>\n",
       "      <td>0.030864</td>\n",
       "      <td>0.030864</td>\n",
       "      <td>0.030864</td>\n",
       "      <td>0.030864</td>\n",
       "      <td>0.045267</td>\n",
       "      <td>0.034979</td>\n",
       "      <td>0.030864</td>\n",
       "      <td>0.030864</td>\n",
       "    </tr>\n",
       "    <tr>\n",
       "      <td>1</td>\n",
       "      <td>PedroPapakilo</td>\n",
       "      <td>Km 47 arah jakarta padat ada check point #puta...</td>\n",
       "      <td>0</td>\n",
       "      <td>0</td>\n",
       "      <td>#putarbalik #turnback #arusbalik #psbb #Checkp...</td>\n",
       "      <td>Jakarta</td>\n",
       "      <td>2020-05-26</td>\n",
       "      <td>04-16-47</td>\n",
       "      <td>km 47 arah jakarta padat check point radioelsh...</td>\n",
       "      <td>62</td>\n",
       "      <td>...</td>\n",
       "      <td>0.032680</td>\n",
       "      <td>0.032680</td>\n",
       "      <td>0.032680</td>\n",
       "      <td>0.032680</td>\n",
       "      <td>0.032680</td>\n",
       "      <td>0.032680</td>\n",
       "      <td>0.052288</td>\n",
       "      <td>0.032680</td>\n",
       "      <td>0.032680</td>\n",
       "      <td>0.032680</td>\n",
       "    </tr>\n",
       "  </tbody>\n",
       "</table>\n",
       "<p>2 rows × 43 columns</p>\n",
       "</div>"
      ],
      "text/plain": [
       "            User                                               Text  Retweets  \\\n",
       "0   golkar_empat  Pemerintah Siap Kembali Putar Roda Perekonomia...         0   \n",
       "1  PedroPapakilo  Km 47 arah jakarta padat ada check point #puta...         0   \n",
       "\n",
       "   Favorites                                           HashTags     City  \\\n",
       "0          0  #PSBB #NewNormal #indonesianewnormal #Indonesi...  Jakarta   \n",
       "1          0  #putarbalik #turnback #arusbalik #psbb #Checkp...  Jakarta   \n",
       "\n",
       "         date      time                                           text_nlp  \\\n",
       "0  2020-05-27  03-07-55  pemerintah putar roda perekonomian new normal ...   \n",
       "1  2020-05-26  04-16-47  km 47 arah jakarta padat check point radioelsh...   \n",
       "\n",
       "   text_len  ...  berdoa/udah/salurkan  menggelar/spesial/sore/ride  \\\n",
       "0        89  ...              0.030864                     0.030864   \n",
       "1        62  ...              0.032680                     0.032680   \n",
       "\n",
       "  dikarenakan/efek/psbb  live/anje/jam  sukabumi/siapkan/residence  \\\n",
       "0              0.030864       0.030864                    0.030864   \n",
       "1              0.032680       0.032680                    0.032680   \n",
       "\n",
       "   check/dalan/polsek/masker  penjual/sukabumi/diam  low/banget/wa  \\\n",
       "0                   0.030864               0.045267       0.034979   \n",
       "1                   0.032680               0.052288       0.032680   \n",
       "\n",
       "   dampak/mudik/safe  sale/online  \n",
       "0           0.030864     0.030864  \n",
       "1           0.032680     0.032680  \n",
       "\n",
       "[2 rows x 43 columns]"
      ]
     },
     "execution_count": 65,
     "metadata": {},
     "output_type": "execute_result"
    }
   ],
   "source": [
    "topics_docs = []\n",
    "for m in ldamallet[corpus]:\n",
    "    topics_docs.append(m)\n",
    "\n",
    "train_vecs = []\n",
    "for i in topics_docs:\n",
    "    topic_vec = [j[1] for j in i]\n",
    "    train_vecs.append(topic_vec) \n",
    "\n",
    "topic_dis = pd.DataFrame(train_vecs,columns=topic_names)\n",
    "topic_dis.head()\n",
    "\n",
    "df= pd.concat([df,topic_dis],axis = 1)\n",
    "df.head(2)"
   ]
  },
  {
   "cell_type": "code",
   "execution_count": 66,
   "metadata": {},
   "outputs": [],
   "source": [
    "# Creat all the interested word for analysis\n",
    "Interesting_words = ['family', 'stay', 'single', 'happiness', 'kesehatan', 'seafood', 'lebaran', 'nikmat', \n",
    "                     'twitter', 'terbaru', 'pemandangan', 'masker', 'niat', 'ongkir', 'online', 'berdoa', \n",
    "                     'spesial', 'sore', 'live', 'jam', 'penjual', 'sale', 'wa', 'order', 'mudik', 'contact', \n",
    "                     'product', 'akhlak', 'stream', 'home', 'share', 'spesial', 'anje', 'safe']\n",
    "                     \n",
    "#                      'tv','membaca','video','game','minum','puzzle','pantai','makan','jalan-jalan', \n",
    "#                      'tiktok','musik','spotify','bicara','gym','latihan','telepon','zoom', \n",
    "#                      'ngobrol','youtube','netflix','nonton','episode','tantangan','challenge', \n",
    "#                      'mendengarkan','lagu','taman', \n",
    "#                      'tidur','bigo','instagram','instagram','virtual', \n",
    "#                      'makan siang','makan pagi','makan malam','masak','bekerja',\n",
    "#                      'social','teman','keluarga','anak','delivery','layanan', 'drakor']"
   ]
  },
  {
   "cell_type": "code",
   "execution_count": 67,
   "metadata": {},
   "outputs": [],
   "source": [
    "for col in Interesting_words:\n",
    "    df[col]=df.text_nlp.apply(lambda x: int(col in str(x)))"
   ]
  },
  {
   "cell_type": "code",
   "execution_count": 68,
   "metadata": {},
   "outputs": [],
   "source": [
    "# get all the cities\n",
    "city = list(df['City'].unique())"
   ]
  },
  {
   "cell_type": "code",
   "execution_count": 69,
   "metadata": {},
   "outputs": [
    {
     "ename": "ValueError",
     "evalue": "list.remove(x): x not in list",
     "output_type": "error",
     "traceback": [
      "\u001b[0;31m---------------------------------------------------------------------------\u001b[0m",
      "\u001b[0;31mValueError\u001b[0m                                Traceback (most recent call last)",
      "\u001b[0;32m<ipython-input-69-91edf713ce79>\u001b[0m in \u001b[0;36m<module>\u001b[0;34m\u001b[0m\n\u001b[0;32m----> 1\u001b[0;31m \u001b[0mcity\u001b[0m\u001b[0;34m.\u001b[0m\u001b[0mremove\u001b[0m\u001b[0;34m(\u001b[0m\u001b[0mnp\u001b[0m\u001b[0;34m.\u001b[0m\u001b[0mnan\u001b[0m\u001b[0;34m)\u001b[0m\u001b[0;34m\u001b[0m\u001b[0;34m\u001b[0m\u001b[0m\n\u001b[0m",
      "\u001b[0;31mValueError\u001b[0m: list.remove(x): x not in list"
     ]
    }
   ],
   "source": [
    "city.remove(np.nan)"
   ]
  },
  {
   "cell_type": "code",
   "execution_count": 70,
   "metadata": {},
   "outputs": [],
   "source": [
    "# create city vector\n",
    "for col in city:\n",
    "    StayHome[col]=StayHome.City.apply(lambda x: int(str(x) == col))\n",
    "StayHome = StayHome.drop('Bandung',1)\n",
    "StayHome = StayHome.dropna()"
   ]
  },
  {
   "cell_type": "code",
   "execution_count": 71,
   "metadata": {},
   "outputs": [],
   "source": [
    "# create polarity score and subjectivity score\n",
    "from textblob import TextBlob\n",
    "\n",
    "pol = lambda x: TextBlob(x).sentiment.polarity\n",
    "sub = lambda x: TextBlob(x).sentiment.subjectivity\n",
    "\n",
    "StayHome['Text'] = StayHome['Text'].apply(str)\n",
    "StayHome['polarity'] = StayHome['Text'].apply(pol)\n",
    "StayHome['subjectivity'] = StayHome['Text'].apply(sub)"
   ]
  },
  {
   "cell_type": "code",
   "execution_count": 72,
   "metadata": {},
   "outputs": [
    {
     "name": "stdout",
     "output_type": "stream",
     "text": [
      "Requirement already satisfied: sklearn in /home/guest/anaconda3/lib/python3.7/site-packages (0.0)\n",
      "Requirement already satisfied: scikit-learn in /home/guest/anaconda3/lib/python3.7/site-packages (from sklearn) (0.21.3)\n",
      "Requirement already satisfied: scipy>=0.17.0 in /home/guest/anaconda3/lib/python3.7/site-packages (from scikit-learn->sklearn) (1.3.1)\n",
      "Requirement already satisfied: joblib>=0.11 in /home/guest/anaconda3/lib/python3.7/site-packages (from scikit-learn->sklearn) (0.13.2)\n",
      "Requirement already satisfied: numpy>=1.11.0 in /home/guest/anaconda3/lib/python3.7/site-packages (from scikit-learn->sklearn) (1.17.2)\n",
      "Note: you may need to restart the kernel to use updated packages.\n"
     ]
    }
   ],
   "source": [
    "pip install sklearn"
   ]
  },
  {
   "cell_type": "code",
   "execution_count": 73,
   "metadata": {},
   "outputs": [],
   "source": [
    "from sklearn.linear_model import Lasso\n",
    "from sklearn.linear_model import LassoCV\n",
    "from sklearn.metrics import r2_score\n",
    "from sklearn.model_selection import train_test_split\n",
    "from sklearn.model_selection import GridSearchCV"
   ]
  },
  {
   "cell_type": "code",
   "execution_count": 77,
   "metadata": {},
   "outputs": [],
   "source": [
    "X = StayHome.drop(['User', 'Text', 'Retweets', 'Favorites', 'HashTags','date','City',\n",
    "       'time', 'text_nlp', 'text_len', 'word_count','polarity','subjectivity', 'sentiment'], 1)\n",
    "Y = StayHome['polarity']"
   ]
  },
  {
   "cell_type": "code",
   "execution_count": 78,
   "metadata": {},
   "outputs": [],
   "source": [
    "# train test split\n",
    "X_test,X_train,y_test,y_train=train_test_split(X,Y, test_size=0.3, random_state=31)"
   ]
  },
  {
   "cell_type": "code",
   "execution_count": 79,
   "metadata": {},
   "outputs": [
    {
     "data": {
      "text/plain": [
       "LassoCV(alphas=None, copy_X=True, cv=10, eps=0.001, fit_intercept=True,\n",
       "        max_iter=1000, n_alphas=100, n_jobs=None, normalize=False,\n",
       "        positive=False, precompute='auto', random_state=31, selection='cyclic',\n",
       "        tol=0.0001, verbose=False)"
      ]
     },
     "execution_count": 79,
     "metadata": {},
     "output_type": "execute_result"
    }
   ],
   "source": [
    "# run lassocv\n",
    "lasso = LassoCV(cv=10, random_state=31)\n",
    "lasso.fit(X_train, y_train)"
   ]
  },
  {
   "cell_type": "code",
   "execution_count": 80,
   "metadata": {},
   "outputs": [
    {
     "data": {
      "text/plain": [
       "array([0.01217532, 0.01217532, 0.01217532, 0.01217532, 0.01217532,\n",
       "       0.01217532, 0.01217532, 0.01217532, 0.01217532, 0.01217532,\n",
       "       0.01217532, 0.01217532, 0.01217532, 0.01217532, 0.01217532,\n",
       "       0.01217532, 0.01217532, 0.01217532, 0.01217532, 0.01217532,\n",
       "       0.01217532, 0.01217532, 0.01217532, 0.01217532, 0.01217532,\n",
       "       0.01217532, 0.01217532, 0.01217532, 0.01217532, 0.01217532,\n",
       "       0.01217532, 0.01217532, 0.01217532, 0.01217532, 0.01217532,\n",
       "       0.01217532, 0.01217532, 0.01217532, 0.01217532, 0.01217532,\n",
       "       0.01217532, 0.01217532, 0.01217532, 0.01217532, 0.01217532,\n",
       "       0.01217532, 0.01217532, 0.01217532, 0.01217532, 0.01217532,\n",
       "       0.01217532, 0.01217532, 0.01217532, 0.01217532, 0.01217532,\n",
       "       0.01217532, 0.01217532, 0.01217532, 0.01217532, 0.01217532,\n",
       "       0.01217532, 0.01217532, 0.01217532, 0.01217532, 0.01217532,\n",
       "       0.01217532, 0.01217532, 0.01217532, 0.01217532, 0.01217532,\n",
       "       0.01217532, 0.01217532, 0.01217532, 0.01217532, 0.01217532,\n",
       "       0.01217532, 0.01217532, 0.01217532, 0.01217532, 0.01217532,\n",
       "       0.01217532, 0.01217532, 0.01217532, 0.01217532, 0.01217532,\n",
       "       0.01217532, 0.01217532, 0.01217532, 0.01217532, 0.01217532,\n",
       "       0.01217532, 0.01217532, 0.01217532, 0.01217532, 0.01217532,\n",
       "       0.01217532, 0.01217532, 0.01217532, 0.01217532, 0.01217532,\n",
       "       0.01217532, 0.01217532, 0.01217532, 0.01217532, 0.01217532,\n",
       "       0.01217532, 0.01217532, 0.01217532, 0.01217532, 0.01217532,\n",
       "       0.01217532, 0.01217532, 0.01217532, 0.01217532, 0.01217532,\n",
       "       0.01217532, 0.01217532, 0.01217532, 0.01217532, 0.01217532,\n",
       "       0.01217532, 0.01217532, 0.01217532, 0.01217532, 0.01217532,\n",
       "       0.01217532, 0.01217532, 0.01217532, 0.01217532, 0.01217532,\n",
       "       0.01217532, 0.01217532, 0.01217532, 0.01217532, 0.01217532,\n",
       "       0.01217532, 0.01217532, 0.01217532, 0.01217532, 0.01217532,\n",
       "       0.01217532, 0.01217532, 0.01217532, 0.01217532, 0.01217532,\n",
       "       0.01217532, 0.01217532, 0.01217532, 0.01217532, 0.01217532,\n",
       "       0.01217532, 0.01217532, 0.01217532, 0.01217532, 0.01217532,\n",
       "       0.01217532, 0.01217532, 0.01217532, 0.01217532, 0.01217532,\n",
       "       0.01217532, 0.01217532, 0.01217532, 0.01217532, 0.01217532,\n",
       "       0.01217532, 0.01217532, 0.01217532, 0.01217532, 0.01217532,\n",
       "       0.01217532, 0.01217532, 0.01217532, 0.01217532, 0.01217532,\n",
       "       0.01217532, 0.01217532, 0.01217532, 0.01217532, 0.01217532,\n",
       "       0.01217532, 0.01217532, 0.01217532, 0.01217532, 0.01217532,\n",
       "       0.01217532, 0.01217532, 0.01217532, 0.01217532, 0.01217532,\n",
       "       0.01217532, 0.01217532, 0.01217532, 0.01217532, 0.01217532,\n",
       "       0.01217532, 0.01217532, 0.01217532, 0.01217532, 0.01217532,\n",
       "       0.01217532, 0.01217532, 0.01217532, 0.01217532, 0.01217532,\n",
       "       0.01217532, 0.01217532, 0.01217532, 0.01217532, 0.01217532,\n",
       "       0.01217532, 0.01217532, 0.01217532, 0.01217532, 0.01217532,\n",
       "       0.01217532, 0.01217532, 0.01217532, 0.01217532, 0.01217532,\n",
       "       0.01217532, 0.01217532, 0.01217532, 0.01217532, 0.01217532,\n",
       "       0.01217532, 0.01217532, 0.01217532, 0.01217532, 0.01217532,\n",
       "       0.01217532, 0.01217532, 0.01217532, 0.01217532, 0.01217532,\n",
       "       0.01217532, 0.01217532, 0.01217532, 0.01217532, 0.01217532,\n",
       "       0.01217532, 0.01217532, 0.01217532, 0.01217532, 0.01217532,\n",
       "       0.01217532, 0.01217532, 0.01217532, 0.01217532, 0.01217532,\n",
       "       0.01217532, 0.01217532, 0.01217532, 0.01217532, 0.01217532,\n",
       "       0.01217532, 0.01217532, 0.01217532, 0.01217532, 0.01217532,\n",
       "       0.01217532, 0.01217532, 0.01217532, 0.01217532, 0.01217532,\n",
       "       0.01217532, 0.01217532, 0.01217532, 0.01217532, 0.01217532,\n",
       "       0.01217532, 0.01217532, 0.01217532, 0.01217532, 0.01217532,\n",
       "       0.01217532, 0.01217532, 0.01217532, 0.01217532, 0.01217532,\n",
       "       0.01217532, 0.01217532, 0.01217532, 0.01217532, 0.01217532,\n",
       "       0.01217532, 0.01217532, 0.01217532, 0.01217532, 0.01217532,\n",
       "       0.01217532, 0.01217532, 0.01217532, 0.01217532, 0.01217532,\n",
       "       0.01217532, 0.01217532, 0.01217532, 0.01217532, 0.01217532,\n",
       "       0.01217532, 0.01217532, 0.01217532, 0.01217532, 0.01217532,\n",
       "       0.01217532, 0.01217532, 0.01217532, 0.01217532, 0.01217532,\n",
       "       0.01217532, 0.01217532, 0.01217532, 0.01217532, 0.01217532,\n",
       "       0.01217532, 0.01217532, 0.01217532, 0.01217532, 0.01217532,\n",
       "       0.01217532, 0.01217532, 0.01217532, 0.01217532, 0.01217532,\n",
       "       0.01217532, 0.01217532, 0.01217532, 0.01217532, 0.01217532,\n",
       "       0.01217532, 0.01217532, 0.01217532, 0.01217532, 0.01217532,\n",
       "       0.01217532, 0.01217532, 0.01217532, 0.01217532, 0.01217532,\n",
       "       0.01217532, 0.01217532, 0.01217532, 0.01217532, 0.01217532,\n",
       "       0.01217532, 0.01217532, 0.01217532, 0.01217532, 0.01217532,\n",
       "       0.01217532, 0.01217532, 0.01217532, 0.01217532, 0.01217532,\n",
       "       0.01217532, 0.01217532, 0.01217532, 0.01217532, 0.01217532,\n",
       "       0.01217532, 0.01217532, 0.01217532, 0.01217532, 0.01217532,\n",
       "       0.01217532, 0.01217532, 0.01217532, 0.01217532, 0.01217532,\n",
       "       0.01217532, 0.01217532, 0.01217532, 0.01217532, 0.01217532,\n",
       "       0.01217532, 0.01217532, 0.01217532, 0.01217532, 0.01217532])"
      ]
     },
     "execution_count": 80,
     "metadata": {},
     "output_type": "execute_result"
    }
   ],
   "source": [
    "# predict y\n",
    "Y_pred = lasso.predict(X_test)\n",
    "Y_pred"
   ]
  },
  {
   "cell_type": "code",
   "execution_count": 81,
   "metadata": {},
   "outputs": [
    {
     "name": "stdout",
     "output_type": "stream",
     "text": [
      "0.0\n",
      "-0.00032438994802208576\n"
     ]
    }
   ],
   "source": [
    "# performance\n",
    "train_score=lasso.score(X_train,y_train)\n",
    "test_score=lasso.score(X_test,y_test)\n",
    "print(train_score)\n",
    "print(test_score)"
   ]
  },
  {
   "cell_type": "code",
   "execution_count": 82,
   "metadata": {},
   "outputs": [
    {
     "data": {
      "text/plain": [
       "[('Jakarta', 0.0),\n",
       " ('Pekanbaru', -0.0),\n",
       " ('Bogor', 0.0),\n",
       " ('Makassar', -0.0),\n",
       " ('SBY', 2.3253713414881942e-17)]"
      ]
     },
     "execution_count": 82,
     "metadata": {},
     "output_type": "execute_result"
    }
   ],
   "source": [
    "# create a dictionary with feature and coeficient\n",
    "coef_dict = dict(zip(list(X.columns),list(list(lasso.coef_))))\n",
    "# rank feature by coeficient value\n",
    "import operator\n",
    "sorted_importance = sorted(coef_dict.items(), key=operator.itemgetter(1))\n",
    "sorted_importance"
   ]
  },
  {
   "cell_type": "code",
   "execution_count": 89,
   "metadata": {},
   "outputs": [
    {
     "data": {
      "text/plain": [
       "array([0.03334569, 0.03329037, 0.03335005, 0.03341851, 0.03327175,\n",
       "       0.03341585, 0.03332219, 0.03326148, 0.0333009 , 0.03340031,\n",
       "       0.03335042, 0.03350457, 0.03322657, 0.03333408, 0.03333421,\n",
       "       0.03334829, 0.03329282, 0.03323562, 0.03326113, 0.03329149,\n",
       "       0.03324111, 0.03326469, 0.03326912, 0.03339543, 0.03332042,\n",
       "       0.03338891, 0.0335046 , 0.03334573, 0.03328234, 0.03343133])"
      ]
     },
     "execution_count": 89,
     "metadata": {},
     "output_type": "execute_result"
    }
   ],
   "source": [
    "df.columns[13:43]\n",
    "df.iloc[:,13:43].mean().values"
   ]
  },
  {
   "cell_type": "code",
   "execution_count": 90,
   "metadata": {},
   "outputs": [
    {
     "data": {
      "text/html": [
       "<div>\n",
       "<style scoped>\n",
       "    .dataframe tbody tr th:only-of-type {\n",
       "        vertical-align: middle;\n",
       "    }\n",
       "\n",
       "    .dataframe tbody tr th {\n",
       "        vertical-align: top;\n",
       "    }\n",
       "\n",
       "    .dataframe thead th {\n",
       "        text-align: right;\n",
       "    }\n",
       "</style>\n",
       "<table border=\"1\" class=\"dataframe\">\n",
       "  <thead>\n",
       "    <tr style=\"text-align: right;\">\n",
       "      <th></th>\n",
       "      <th>Topics</th>\n",
       "      <th>Polarity</th>\n",
       "    </tr>\n",
       "  </thead>\n",
       "  <tbody>\n",
       "    <tr>\n",
       "      <td>17</td>\n",
       "      <td>dampak/mental/kesehatan</td>\n",
       "      <td>0.016400</td>\n",
       "    </tr>\n",
       "    <tr>\n",
       "      <td>10</td>\n",
       "      <td>twitter/repost/terbaru/love</td>\n",
       "      <td>0.016370</td>\n",
       "    </tr>\n",
       "    <tr>\n",
       "      <td>25</td>\n",
       "      <td>check/dalan/polsek/masker</td>\n",
       "      <td>0.016370</td>\n",
       "    </tr>\n",
       "    <tr>\n",
       "      <td>19</td>\n",
       "      <td>share/dikaji/online</td>\n",
       "      <td>0.016370</td>\n",
       "    </tr>\n",
       "    <tr>\n",
       "      <td>14</td>\n",
       "      <td>home/kesehatan/kementrian</td>\n",
       "      <td>0.016370</td>\n",
       "    </tr>\n",
       "    <tr>\n",
       "      <td>8</td>\n",
       "      <td>nikmat/lebaran/dampak/product</td>\n",
       "      <td>0.016370</td>\n",
       "    </tr>\n",
       "    <tr>\n",
       "      <td>15</td>\n",
       "      <td>niat/akhlak</td>\n",
       "      <td>0.016310</td>\n",
       "    </tr>\n",
       "    <tr>\n",
       "      <td>20</td>\n",
       "      <td>berdoa/udah/salurkan</td>\n",
       "      <td>0.014977</td>\n",
       "    </tr>\n",
       "    <tr>\n",
       "      <td>13</td>\n",
       "      <td>disuruh/masker/check</td>\n",
       "      <td>0.014977</td>\n",
       "    </tr>\n",
       "    <tr>\n",
       "      <td>0</td>\n",
       "      <td>family/mudik/depok</td>\n",
       "      <td>0.014977</td>\n",
       "    </tr>\n",
       "    <tr>\n",
       "      <td>9</td>\n",
       "      <td>kejadian/real/pertikaian/tanggung</td>\n",
       "      <td>0.014949</td>\n",
       "    </tr>\n",
       "    <tr>\n",
       "      <td>5</td>\n",
       "      <td>single/happiness</td>\n",
       "      <td>0.014949</td>\n",
       "    </tr>\n",
       "    <tr>\n",
       "      <td>28</td>\n",
       "      <td>dampak/mudik/safe</td>\n",
       "      <td>0.014949</td>\n",
       "    </tr>\n",
       "    <tr>\n",
       "      <td>26</td>\n",
       "      <td>penjual/sukabumi/diam</td>\n",
       "      <td>0.014949</td>\n",
       "    </tr>\n",
       "    <tr>\n",
       "      <td>21</td>\n",
       "      <td>menggelar/spesial/sore/ride</td>\n",
       "      <td>0.014949</td>\n",
       "    </tr>\n",
       "    <tr>\n",
       "      <td>4</td>\n",
       "      <td>stay/didalam/area</td>\n",
       "      <td>0.014949</td>\n",
       "    </tr>\n",
       "    <tr>\n",
       "      <td>18</td>\n",
       "      <td>home/area/order/ongkir</td>\n",
       "      <td>0.014949</td>\n",
       "    </tr>\n",
       "    <tr>\n",
       "      <td>29</td>\n",
       "      <td>sale/online</td>\n",
       "      <td>0.014949</td>\n",
       "    </tr>\n",
       "    <tr>\n",
       "      <td>16</td>\n",
       "      <td>maen/stream/wa</td>\n",
       "      <td>0.014921</td>\n",
       "    </tr>\n",
       "    <tr>\n",
       "      <td>1</td>\n",
       "      <td>pandemi/social</td>\n",
       "      <td>0.014921</td>\n",
       "    </tr>\n",
       "    <tr>\n",
       "      <td>11</td>\n",
       "      <td>normal/hujan/bandung</td>\n",
       "      <td>0.014921</td>\n",
       "    </tr>\n",
       "    <tr>\n",
       "      <td>6</td>\n",
       "      <td>seafood/kesehatan</td>\n",
       "      <td>0.014921</td>\n",
       "    </tr>\n",
       "    <tr>\n",
       "      <td>22</td>\n",
       "      <td>dikarenakan/efek/psbb</td>\n",
       "      <td>0.014921</td>\n",
       "    </tr>\n",
       "    <tr>\n",
       "      <td>2</td>\n",
       "      <td>contact/family/special</td>\n",
       "      <td>0.014921</td>\n",
       "    </tr>\n",
       "    <tr>\n",
       "      <td>27</td>\n",
       "      <td>low/banget/wa</td>\n",
       "      <td>0.014921</td>\n",
       "    </tr>\n",
       "    <tr>\n",
       "      <td>12</td>\n",
       "      <td>protokol/efektif/pemandangan</td>\n",
       "      <td>0.014921</td>\n",
       "    </tr>\n",
       "    <tr>\n",
       "      <td>3</td>\n",
       "      <td>saget/punten</td>\n",
       "      <td>0.014921</td>\n",
       "    </tr>\n",
       "    <tr>\n",
       "      <td>24</td>\n",
       "      <td>sukabumi/siapkan/residence</td>\n",
       "      <td>0.014894</td>\n",
       "    </tr>\n",
       "    <tr>\n",
       "      <td>7</td>\n",
       "      <td>kesehatan/dampak</td>\n",
       "      <td>0.014894</td>\n",
       "    </tr>\n",
       "    <tr>\n",
       "      <td>23</td>\n",
       "      <td>live/anje/jam</td>\n",
       "      <td>0.014866</td>\n",
       "    </tr>\n",
       "  </tbody>\n",
       "</table>\n",
       "</div>"
      ],
      "text/plain": [
       "                               Topics  Polarity\n",
       "17            dampak/mental/kesehatan  0.016400\n",
       "10        twitter/repost/terbaru/love  0.016370\n",
       "25          check/dalan/polsek/masker  0.016370\n",
       "19                share/dikaji/online  0.016370\n",
       "14          home/kesehatan/kementrian  0.016370\n",
       "8       nikmat/lebaran/dampak/product  0.016370\n",
       "15                        niat/akhlak  0.016310\n",
       "20               berdoa/udah/salurkan  0.014977\n",
       "13               disuruh/masker/check  0.014977\n",
       "0                  family/mudik/depok  0.014977\n",
       "9   kejadian/real/pertikaian/tanggung  0.014949\n",
       "5                    single/happiness  0.014949\n",
       "28                  dampak/mudik/safe  0.014949\n",
       "26              penjual/sukabumi/diam  0.014949\n",
       "21        menggelar/spesial/sore/ride  0.014949\n",
       "4                   stay/didalam/area  0.014949\n",
       "18             home/area/order/ongkir  0.014949\n",
       "29                        sale/online  0.014949\n",
       "16                     maen/stream/wa  0.014921\n",
       "1                      pandemi/social  0.014921\n",
       "11               normal/hujan/bandung  0.014921\n",
       "6                   seafood/kesehatan  0.014921\n",
       "22              dikarenakan/efek/psbb  0.014921\n",
       "2              contact/family/special  0.014921\n",
       "27                      low/banget/wa  0.014921\n",
       "12       protokol/efektif/pemandangan  0.014921\n",
       "3                        saget/punten  0.014921\n",
       "24         sukabumi/siapkan/residence  0.014894\n",
       "7                    kesehatan/dampak  0.014894\n",
       "23                      live/anje/jam  0.014866"
      ]
     },
     "execution_count": 90,
     "metadata": {},
     "output_type": "execute_result"
    }
   ],
   "source": [
    "topic_list = df.columns[13:43]\n",
    "topic_mean = df.iloc[:,13:43].mean().values\n",
    "\n",
    "for i in range(len(topic_list)):\n",
    "    df[i] = np.where(df[topic_list[i]] > 0.03,1,0)\n",
    "    \n",
    "topic_polarity = list()\n",
    "for i in range(30):\n",
    "    topic_polarity.append(df[df[i]==1]['polarity'].mean())\n",
    "    \n",
    "topic_polarity = pd.DataFrame({'Topics':topic_list,'Polarity':topic_polarity})\n",
    "topic_polarity.sort_values(by = ['Polarity'],ascending=False)"
   ]
  },
  {
   "cell_type": "code",
   "execution_count": 91,
   "metadata": {},
   "outputs": [
    {
     "data": {
      "text/html": [
       "<div>\n",
       "<style scoped>\n",
       "    .dataframe tbody tr th:only-of-type {\n",
       "        vertical-align: middle;\n",
       "    }\n",
       "\n",
       "    .dataframe tbody tr th {\n",
       "        vertical-align: top;\n",
       "    }\n",
       "\n",
       "    .dataframe thead th {\n",
       "        text-align: right;\n",
       "    }\n",
       "</style>\n",
       "<table border=\"1\" class=\"dataframe\">\n",
       "  <thead>\n",
       "    <tr style=\"text-align: right;\">\n",
       "      <th>City</th>\n",
       "      <th>Bandung</th>\n",
       "      <th>Bogor</th>\n",
       "      <th>Jakarta</th>\n",
       "      <th>Makassar</th>\n",
       "      <th>Pekanbaru</th>\n",
       "      <th>SBY</th>\n",
       "    </tr>\n",
       "  </thead>\n",
       "  <tbody>\n",
       "    <tr>\n",
       "      <td>0</td>\n",
       "      <td>87</td>\n",
       "      <td>40</td>\n",
       "      <td>326</td>\n",
       "      <td>11</td>\n",
       "      <td>5</td>\n",
       "      <td>70</td>\n",
       "    </tr>\n",
       "    <tr>\n",
       "      <td>1</td>\n",
       "      <td>87</td>\n",
       "      <td>41</td>\n",
       "      <td>327</td>\n",
       "      <td>11</td>\n",
       "      <td>5</td>\n",
       "      <td>70</td>\n",
       "    </tr>\n",
       "    <tr>\n",
       "      <td>2</td>\n",
       "      <td>87</td>\n",
       "      <td>40</td>\n",
       "      <td>327</td>\n",
       "      <td>11</td>\n",
       "      <td>5</td>\n",
       "      <td>71</td>\n",
       "    </tr>\n",
       "    <tr>\n",
       "      <td>3</td>\n",
       "      <td>87</td>\n",
       "      <td>40</td>\n",
       "      <td>328</td>\n",
       "      <td>11</td>\n",
       "      <td>5</td>\n",
       "      <td>70</td>\n",
       "    </tr>\n",
       "    <tr>\n",
       "      <td>4</td>\n",
       "      <td>87</td>\n",
       "      <td>40</td>\n",
       "      <td>327</td>\n",
       "      <td>11</td>\n",
       "      <td>5</td>\n",
       "      <td>70</td>\n",
       "    </tr>\n",
       "    <tr>\n",
       "      <td>5</td>\n",
       "      <td>87</td>\n",
       "      <td>41</td>\n",
       "      <td>326</td>\n",
       "      <td>11</td>\n",
       "      <td>5</td>\n",
       "      <td>70</td>\n",
       "    </tr>\n",
       "    <tr>\n",
       "      <td>6</td>\n",
       "      <td>87</td>\n",
       "      <td>40</td>\n",
       "      <td>327</td>\n",
       "      <td>11</td>\n",
       "      <td>5</td>\n",
       "      <td>71</td>\n",
       "    </tr>\n",
       "    <tr>\n",
       "      <td>7</td>\n",
       "      <td>87</td>\n",
       "      <td>41</td>\n",
       "      <td>327</td>\n",
       "      <td>11</td>\n",
       "      <td>5</td>\n",
       "      <td>71</td>\n",
       "    </tr>\n",
       "    <tr>\n",
       "      <td>8</td>\n",
       "      <td>87</td>\n",
       "      <td>40</td>\n",
       "      <td>328</td>\n",
       "      <td>11</td>\n",
       "      <td>5</td>\n",
       "      <td>71</td>\n",
       "    </tr>\n",
       "    <tr>\n",
       "      <td>9</td>\n",
       "      <td>87</td>\n",
       "      <td>40</td>\n",
       "      <td>327</td>\n",
       "      <td>11</td>\n",
       "      <td>5</td>\n",
       "      <td>70</td>\n",
       "    </tr>\n",
       "    <tr>\n",
       "      <td>10</td>\n",
       "      <td>87</td>\n",
       "      <td>41</td>\n",
       "      <td>326</td>\n",
       "      <td>11</td>\n",
       "      <td>5</td>\n",
       "      <td>72</td>\n",
       "    </tr>\n",
       "    <tr>\n",
       "      <td>11</td>\n",
       "      <td>87</td>\n",
       "      <td>41</td>\n",
       "      <td>326</td>\n",
       "      <td>11</td>\n",
       "      <td>5</td>\n",
       "      <td>71</td>\n",
       "    </tr>\n",
       "    <tr>\n",
       "      <td>12</td>\n",
       "      <td>87</td>\n",
       "      <td>41</td>\n",
       "      <td>326</td>\n",
       "      <td>11</td>\n",
       "      <td>5</td>\n",
       "      <td>71</td>\n",
       "    </tr>\n",
       "    <tr>\n",
       "      <td>13</td>\n",
       "      <td>87</td>\n",
       "      <td>40</td>\n",
       "      <td>326</td>\n",
       "      <td>11</td>\n",
       "      <td>5</td>\n",
       "      <td>70</td>\n",
       "    </tr>\n",
       "    <tr>\n",
       "      <td>14</td>\n",
       "      <td>87</td>\n",
       "      <td>41</td>\n",
       "      <td>327</td>\n",
       "      <td>11</td>\n",
       "      <td>5</td>\n",
       "      <td>71</td>\n",
       "    </tr>\n",
       "    <tr>\n",
       "      <td>15</td>\n",
       "      <td>87</td>\n",
       "      <td>41</td>\n",
       "      <td>328</td>\n",
       "      <td>11</td>\n",
       "      <td>5</td>\n",
       "      <td>72</td>\n",
       "    </tr>\n",
       "    <tr>\n",
       "      <td>16</td>\n",
       "      <td>87</td>\n",
       "      <td>40</td>\n",
       "      <td>327</td>\n",
       "      <td>11</td>\n",
       "      <td>5</td>\n",
       "      <td>71</td>\n",
       "    </tr>\n",
       "    <tr>\n",
       "      <td>17</td>\n",
       "      <td>87</td>\n",
       "      <td>40</td>\n",
       "      <td>326</td>\n",
       "      <td>11</td>\n",
       "      <td>5</td>\n",
       "      <td>72</td>\n",
       "    </tr>\n",
       "    <tr>\n",
       "      <td>18</td>\n",
       "      <td>87</td>\n",
       "      <td>41</td>\n",
       "      <td>326</td>\n",
       "      <td>11</td>\n",
       "      <td>5</td>\n",
       "      <td>70</td>\n",
       "    </tr>\n",
       "    <tr>\n",
       "      <td>19</td>\n",
       "      <td>87</td>\n",
       "      <td>40</td>\n",
       "      <td>327</td>\n",
       "      <td>11</td>\n",
       "      <td>5</td>\n",
       "      <td>72</td>\n",
       "    </tr>\n",
       "    <tr>\n",
       "      <td>20</td>\n",
       "      <td>87</td>\n",
       "      <td>40</td>\n",
       "      <td>326</td>\n",
       "      <td>11</td>\n",
       "      <td>5</td>\n",
       "      <td>70</td>\n",
       "    </tr>\n",
       "    <tr>\n",
       "      <td>21</td>\n",
       "      <td>87</td>\n",
       "      <td>40</td>\n",
       "      <td>327</td>\n",
       "      <td>11</td>\n",
       "      <td>5</td>\n",
       "      <td>70</td>\n",
       "    </tr>\n",
       "    <tr>\n",
       "      <td>22</td>\n",
       "      <td>87</td>\n",
       "      <td>40</td>\n",
       "      <td>327</td>\n",
       "      <td>11</td>\n",
       "      <td>5</td>\n",
       "      <td>71</td>\n",
       "    </tr>\n",
       "    <tr>\n",
       "      <td>23</td>\n",
       "      <td>87</td>\n",
       "      <td>41</td>\n",
       "      <td>328</td>\n",
       "      <td>11</td>\n",
       "      <td>5</td>\n",
       "      <td>71</td>\n",
       "    </tr>\n",
       "    <tr>\n",
       "      <td>24</td>\n",
       "      <td>87</td>\n",
       "      <td>41</td>\n",
       "      <td>327</td>\n",
       "      <td>11</td>\n",
       "      <td>5</td>\n",
       "      <td>71</td>\n",
       "    </tr>\n",
       "    <tr>\n",
       "      <td>25</td>\n",
       "      <td>87</td>\n",
       "      <td>41</td>\n",
       "      <td>327</td>\n",
       "      <td>11</td>\n",
       "      <td>5</td>\n",
       "      <td>71</td>\n",
       "    </tr>\n",
       "    <tr>\n",
       "      <td>26</td>\n",
       "      <td>87</td>\n",
       "      <td>40</td>\n",
       "      <td>327</td>\n",
       "      <td>11</td>\n",
       "      <td>5</td>\n",
       "      <td>70</td>\n",
       "    </tr>\n",
       "    <tr>\n",
       "      <td>27</td>\n",
       "      <td>87</td>\n",
       "      <td>40</td>\n",
       "      <td>327</td>\n",
       "      <td>11</td>\n",
       "      <td>5</td>\n",
       "      <td>71</td>\n",
       "    </tr>\n",
       "    <tr>\n",
       "      <td>28</td>\n",
       "      <td>87</td>\n",
       "      <td>41</td>\n",
       "      <td>326</td>\n",
       "      <td>11</td>\n",
       "      <td>5</td>\n",
       "      <td>70</td>\n",
       "    </tr>\n",
       "    <tr>\n",
       "      <td>29</td>\n",
       "      <td>87</td>\n",
       "      <td>40</td>\n",
       "      <td>327</td>\n",
       "      <td>11</td>\n",
       "      <td>5</td>\n",
       "      <td>70</td>\n",
       "    </tr>\n",
       "  </tbody>\n",
       "</table>\n",
       "</div>"
      ],
      "text/plain": [
       "City  Bandung  Bogor  Jakarta  Makassar  Pekanbaru  SBY\n",
       "0          87     40      326        11          5   70\n",
       "1          87     41      327        11          5   70\n",
       "2          87     40      327        11          5   71\n",
       "3          87     40      328        11          5   70\n",
       "4          87     40      327        11          5   70\n",
       "5          87     41      326        11          5   70\n",
       "6          87     40      327        11          5   71\n",
       "7          87     41      327        11          5   71\n",
       "8          87     40      328        11          5   71\n",
       "9          87     40      327        11          5   70\n",
       "10         87     41      326        11          5   72\n",
       "11         87     41      326        11          5   71\n",
       "12         87     41      326        11          5   71\n",
       "13         87     40      326        11          5   70\n",
       "14         87     41      327        11          5   71\n",
       "15         87     41      328        11          5   72\n",
       "16         87     40      327        11          5   71\n",
       "17         87     40      326        11          5   72\n",
       "18         87     41      326        11          5   70\n",
       "19         87     40      327        11          5   72\n",
       "20         87     40      326        11          5   70\n",
       "21         87     40      327        11          5   70\n",
       "22         87     40      327        11          5   71\n",
       "23         87     41      328        11          5   71\n",
       "24         87     41      327        11          5   71\n",
       "25         87     41      327        11          5   71\n",
       "26         87     40      327        11          5   70\n",
       "27         87     40      327        11          5   71\n",
       "28         87     41      326        11          5   70\n",
       "29         87     40      327        11          5   70"
      ]
     },
     "execution_count": 91,
     "metadata": {},
     "output_type": "execute_result"
    }
   ],
   "source": [
    "# count how much time each topic is discussed in each city\n",
    "topic_cities = df.groupby(['City']).sum().iloc[:,-30:].transpose()\n",
    "topic_cities"
   ]
  },
  {
   "cell_type": "code",
   "execution_count": 92,
   "metadata": {},
   "outputs": [],
   "source": [
    "df = df.dropna(subset = ['text_nlp'])"
   ]
  },
  {
   "cell_type": "code",
   "execution_count": 93,
   "metadata": {},
   "outputs": [],
   "source": [
    "specail_words = ['kesehatan', 'mental', 'terbaru', 'masker', 'online', 'home', 'nikmat', 'lebaran', 'product', \n",
    "                 'single', 'happiness', 'sore', 'stay', 'order', 'sale', 'niat', 'berdoa', 'salurkan', 'family', \n",
    "                 'pemandangan', 'live']\n",
    "#                  'video','netflix','watch','episode','movie',\n",
    "#                  'gym','exercise','workout','air','fresh',\n",
    "#                  'listen','music','song',\n",
    "#                  'sleeping',\n",
    "#                  'prayer',\n",
    "#                  'reading','book',\n",
    "#                  'game',\n",
    "#                  'instagram',\n",
    "#                  'phone','zoom','virtual','message',\n",
    "#                  'eat','lunch','breakfast','dinner','cooking',\n",
    "#                  'friends','friend','family','neighbor',\n",
    "#                  'delivery',\n",
    "#                  'drinking','wine']\n",
    "avg_polarity = list()\n",
    "num_texts = list()\n",
    "for word in specail_words:\n",
    "    avg_polarity.append(df[df['text_nlp'].str.match(word)]['polarity'].mean())\n",
    "    num_texts.append(len(df[df['text_nlp'].str.match(word)]))"
   ]
  },
  {
   "cell_type": "code",
   "execution_count": 107,
   "metadata": {},
   "outputs": [],
   "source": [
    "activity = pd.DataFrame()\n",
    "activity['activity'] = specail_words\n",
    "activity['avg_polarity'] = avg_polarity\n",
    "activity['num_texts'] = num_texts\n",
    "activity= activity.sort_values(by = ['num_texts'],ascending = True)\n",
    "activity.reset_index(inplace = True)\n",
    "activity.drop('index',axis = 1,inplace = True)"
   ]
  },
  {
   "cell_type": "code",
   "execution_count": 108,
   "metadata": {},
   "outputs": [
    {
     "data": {
      "text/html": [
       "<div>\n",
       "<style scoped>\n",
       "    .dataframe tbody tr th:only-of-type {\n",
       "        vertical-align: middle;\n",
       "    }\n",
       "\n",
       "    .dataframe tbody tr th {\n",
       "        vertical-align: top;\n",
       "    }\n",
       "\n",
       "    .dataframe thead th {\n",
       "        text-align: right;\n",
       "    }\n",
       "</style>\n",
       "<table border=\"1\" class=\"dataframe\">\n",
       "  <thead>\n",
       "    <tr style=\"text-align: right;\">\n",
       "      <th></th>\n",
       "      <th>activity</th>\n",
       "      <th>avg_polarity</th>\n",
       "      <th>num_texts</th>\n",
       "    </tr>\n",
       "  </thead>\n",
       "  <tbody>\n",
       "    <tr>\n",
       "      <td>0</td>\n",
       "      <td>kesehatan</td>\n",
       "      <td>NaN</td>\n",
       "      <td>0</td>\n",
       "    </tr>\n",
       "    <tr>\n",
       "      <td>1</td>\n",
       "      <td>family</td>\n",
       "      <td>NaN</td>\n",
       "      <td>0</td>\n",
       "    </tr>\n",
       "    <tr>\n",
       "      <td>2</td>\n",
       "      <td>berdoa</td>\n",
       "      <td>NaN</td>\n",
       "      <td>0</td>\n",
       "    </tr>\n",
       "    <tr>\n",
       "      <td>3</td>\n",
       "      <td>sale</td>\n",
       "      <td>NaN</td>\n",
       "      <td>0</td>\n",
       "    </tr>\n",
       "    <tr>\n",
       "      <td>4</td>\n",
       "      <td>order</td>\n",
       "      <td>NaN</td>\n",
       "      <td>0</td>\n",
       "    </tr>\n",
       "    <tr>\n",
       "      <td>5</td>\n",
       "      <td>stay</td>\n",
       "      <td>NaN</td>\n",
       "      <td>0</td>\n",
       "    </tr>\n",
       "    <tr>\n",
       "      <td>6</td>\n",
       "      <td>sore</td>\n",
       "      <td>NaN</td>\n",
       "      <td>0</td>\n",
       "    </tr>\n",
       "    <tr>\n",
       "      <td>7</td>\n",
       "      <td>pemandangan</td>\n",
       "      <td>NaN</td>\n",
       "      <td>0</td>\n",
       "    </tr>\n",
       "    <tr>\n",
       "      <td>8</td>\n",
       "      <td>single</td>\n",
       "      <td>NaN</td>\n",
       "      <td>0</td>\n",
       "    </tr>\n",
       "    <tr>\n",
       "      <td>9</td>\n",
       "      <td>happiness</td>\n",
       "      <td>NaN</td>\n",
       "      <td>0</td>\n",
       "    </tr>\n",
       "    <tr>\n",
       "      <td>10</td>\n",
       "      <td>nikmat</td>\n",
       "      <td>NaN</td>\n",
       "      <td>0</td>\n",
       "    </tr>\n",
       "    <tr>\n",
       "      <td>11</td>\n",
       "      <td>home</td>\n",
       "      <td>NaN</td>\n",
       "      <td>0</td>\n",
       "    </tr>\n",
       "    <tr>\n",
       "      <td>12</td>\n",
       "      <td>online</td>\n",
       "      <td>NaN</td>\n",
       "      <td>0</td>\n",
       "    </tr>\n",
       "    <tr>\n",
       "      <td>13</td>\n",
       "      <td>terbaru</td>\n",
       "      <td>NaN</td>\n",
       "      <td>0</td>\n",
       "    </tr>\n",
       "    <tr>\n",
       "      <td>14</td>\n",
       "      <td>mental</td>\n",
       "      <td>NaN</td>\n",
       "      <td>0</td>\n",
       "    </tr>\n",
       "    <tr>\n",
       "      <td>15</td>\n",
       "      <td>product</td>\n",
       "      <td>NaN</td>\n",
       "      <td>0</td>\n",
       "    </tr>\n",
       "    <tr>\n",
       "      <td>16</td>\n",
       "      <td>live</td>\n",
       "      <td>NaN</td>\n",
       "      <td>0</td>\n",
       "    </tr>\n",
       "    <tr>\n",
       "      <td>17</td>\n",
       "      <td>masker</td>\n",
       "      <td>0.0</td>\n",
       "      <td>1</td>\n",
       "    </tr>\n",
       "    <tr>\n",
       "      <td>18</td>\n",
       "      <td>niat</td>\n",
       "      <td>0.0</td>\n",
       "      <td>1</td>\n",
       "    </tr>\n",
       "    <tr>\n",
       "      <td>19</td>\n",
       "      <td>salurkan</td>\n",
       "      <td>0.0</td>\n",
       "      <td>1</td>\n",
       "    </tr>\n",
       "    <tr>\n",
       "      <td>20</td>\n",
       "      <td>lebaran</td>\n",
       "      <td>0.1</td>\n",
       "      <td>5</td>\n",
       "    </tr>\n",
       "  </tbody>\n",
       "</table>\n",
       "</div>"
      ],
      "text/plain": [
       "       activity  avg_polarity  num_texts\n",
       "0     kesehatan           NaN          0\n",
       "1        family           NaN          0\n",
       "2        berdoa           NaN          0\n",
       "3          sale           NaN          0\n",
       "4         order           NaN          0\n",
       "5          stay           NaN          0\n",
       "6          sore           NaN          0\n",
       "7   pemandangan           NaN          0\n",
       "8        single           NaN          0\n",
       "9     happiness           NaN          0\n",
       "10       nikmat           NaN          0\n",
       "11         home           NaN          0\n",
       "12       online           NaN          0\n",
       "13      terbaru           NaN          0\n",
       "14       mental           NaN          0\n",
       "15      product           NaN          0\n",
       "16         live           NaN          0\n",
       "17       masker           0.0          1\n",
       "18         niat           0.0          1\n",
       "19     salurkan           0.0          1\n",
       "20      lebaran           0.1          5"
      ]
     },
     "execution_count": 108,
     "metadata": {},
     "output_type": "execute_result"
    }
   ],
   "source": [
    "# activity['avg_polarity']\n",
    "activity"
   ]
  },
  {
   "cell_type": "code",
   "execution_count": 109,
   "metadata": {},
   "outputs": [],
   "source": [
    "positive = activity[activity['avg_polarity']>0.01].index\n",
    "mild = activity[(activity['avg_polarity']>=0) &(activity['avg_polarity']<=0.01)].index"
   ]
  },
  {
   "cell_type": "code",
   "execution_count": 110,
   "metadata": {},
   "outputs": [
    {
     "data": {
      "text/plain": [
       "Text(0.5, 1.0, 'The average polarity of all Tweets containing a keyword')"
      ]
     },
     "execution_count": 110,
     "metadata": {},
     "output_type": "execute_result"
    },
    {
     "data": {
      "image/png": "[encoded data removed]",
      "text/plain": [
       "<Figure size 360x576 with 1 Axes>"
      ]
     },
     "metadata": {
      "needs_background": "light"
     },
     "output_type": "display_data"
    }
   ],
   "source": [
    "fig, ax = plt.subplots(figsize=(5,8))\n",
    "barlist =plt.barh(range(len(activity['num_texts'])), activity['num_texts'],color = 'grey')\n",
    "ax.set_yticks(range(len(activity['num_texts'])))\n",
    "ax.set_yticklabels(activity['activity'])\n",
    "plt.rc('xtick', labelsize=10) \n",
    "for word in positive:\n",
    "    barlist[word].set_color('lightcoral')\n",
    "for word in mild:\n",
    "    barlist[word].set_color('rosybrown')\n",
    "plt.title('The average polarity of all Tweets containing a keyword')"
   ]
  },
  {
   "cell_type": "code",
   "execution_count": null,
   "metadata": {},
   "outputs": [],
   "source": []
  }
 ],
 "metadata": {
  "colab": {
   "authorship_tag": "ABX9TyNxPFZmTwWCdpdNLo1Qcf7o",
   "mount_file_id": "1Tv5c_FWCsHVgFXDrt4cdJIE81u73craC",
   "name": "test2.ipynb",
   "provenance": []
  },
  "kernelspec": {
   "display_name": "Python 3",
   "language": "python",
   "name": "python3"
  },
  "language_info": {
   "codemirror_mode": {
    "name": "ipython",
    "version": 3
   },
   "file_extension": ".py",
   "mimetype": "text/x-python",
   "name": "python",
   "nbconvert_exporter": "python",
   "pygments_lexer": "ipython3",
   "version": "3.7.4"
  }
 },
 "nbformat": 4,
 "nbformat_minor": 1
}
